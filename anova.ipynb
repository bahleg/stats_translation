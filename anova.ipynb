{
 "cells": [
  {
   "cell_type": "markdown",
   "metadata": {
    "id": "F7NgOJufKtNg"
   },
   "source": [
    "#   Variation analysis "
   ]
  },
  {
   "cell_type": "markdown",
   "metadata": {
    "id": "40sz4SPXKtNl"
   },
   "source": [
    "##   Libraries "
   ]
  },
  {
   "cell_type": "code",
   "execution_count": 1,
   "metadata": {
    "id": "cbHFncPpKtNm"
   },
   "outputs": [],
   "source": [
    "import numpy as np\n",
    "import pandas as pd\n",
    "import matplotlib.pylab as plt\n",
    "\n",
    "import scipy.stats as st\n",
    "import seaborn as sns\n",
    "\n",
    "import statsmodels.api as sm\n",
    "\n",
    "from statsmodels.formula.api import ols\n",
    "\n",
    "from statsmodels.stats.multicomp import pairwise_tukeyhsd\n",
    "from statsmodels.stats.multicomp import MultiComparison\n",
    "\n",
    "from statsmodels.stats.weightstats  import ttest_ind\n"
   ]
  },
  {
   "cell_type": "markdown",
   "metadata": {
    "id": "x9rFH7-rKtNo"
   },
   "source": [
    "  ## Treatment of hypertension \n",
    "**Maxwell S.E., Delaney H.D. Designing Experiments and Analyzing Data: A Model Comparison Perspective. (1990).   Chapter 8, page  325. **"
   ]
  },
  {
   "cell_type": "markdown",
   "metadata": {
    "id": "2Y-Z2i_yKtNp"
   },
   "source": [
    "  72 patients were treated for hypertension.    Three types of medication were used for treatment, and their effects were studied both in the use of a special diet and in the absence of it; in addition, psychotherapy was used in half of the cases.    Data is the patient's arterial pressure at the end of treatment. \n",
    "  There is a need to compare the effectiveness of the treatment of hypertension. "
   ]
  },
  {
   "cell_type": "markdown",
   "metadata": {
    "id": "4Pq-y4_ZKtNq"
   },
   "source": [
    "###   Reading data "
   ]
  },
  {
   "cell_type": "code",
   "execution_count": 2,
   "metadata": {
    "id": "1CRRFfLRKtNq"
   },
   "outputs": [
    {
     "data": {
      "text/html": [
       "<div>\n",
       "<style scoped>\n",
       "    .dataframe tbody tr th:only-of-type {\n",
       "        vertical-align: middle;\n",
       "    }\n",
       "\n",
       "    .dataframe tbody tr th {\n",
       "        vertical-align: top;\n",
       "    }\n",
       "\n",
       "    .dataframe thead th {\n",
       "        text-align: right;\n",
       "    }\n",
       "</style>\n",
       "<table border=\"1\" class=\"dataframe\">\n",
       "  <thead>\n",
       "    <tr style=\"text-align: right;\">\n",
       "      <th></th>\n",
       "      <th>biofeedback</th>\n",
       "      <th>diet</th>\n",
       "      <th>drug</th>\n",
       "      <th>pressure</th>\n",
       "    </tr>\n",
       "  </thead>\n",
       "  <tbody>\n",
       "    <tr>\n",
       "      <th>0</th>\n",
       "      <td>present</td>\n",
       "      <td>absent</td>\n",
       "      <td>1</td>\n",
       "      <td>170</td>\n",
       "    </tr>\n",
       "    <tr>\n",
       "      <th>1</th>\n",
       "      <td>present</td>\n",
       "      <td>absent</td>\n",
       "      <td>1</td>\n",
       "      <td>175</td>\n",
       "    </tr>\n",
       "    <tr>\n",
       "      <th>2</th>\n",
       "      <td>present</td>\n",
       "      <td>absent</td>\n",
       "      <td>1</td>\n",
       "      <td>165</td>\n",
       "    </tr>\n",
       "    <tr>\n",
       "      <th>3</th>\n",
       "      <td>present</td>\n",
       "      <td>absent</td>\n",
       "      <td>1</td>\n",
       "      <td>180</td>\n",
       "    </tr>\n",
       "    <tr>\n",
       "      <th>4</th>\n",
       "      <td>present</td>\n",
       "      <td>absent</td>\n",
       "      <td>1</td>\n",
       "      <td>160</td>\n",
       "    </tr>\n",
       "  </tbody>\n",
       "</table>\n",
       "</div>"
      ],
      "text/plain": [
       "  biofeedback    diet  drug  pressure\n",
       "0     present  absent     1       170\n",
       "1     present  absent     1       175\n",
       "2     present  absent     1       165\n",
       "3     present  absent     1       180\n",
       "4     present  absent     1       160"
      ]
     },
     "execution_count": 2,
     "metadata": {},
     "output_type": "execute_result"
    }
   ],
   "source": [
    "data = pd.read_csv('https://raw.githubusercontent.com/Intelligent-Systems-Phystech/psad/master/seminars/sem6/data/hyper.txt', delimiter='\\t')\n",
    "data.head()\n"
   ]
  },
  {
   "cell_type": "code",
   "execution_count": 3,
   "metadata": {
    "id": "Bt7fWoG3KtNr"
   },
   "outputs": [
    {
     "data": {
      "text/html": [
       "<div>\n",
       "<style scoped>\n",
       "    .dataframe tbody tr th:only-of-type {\n",
       "        vertical-align: middle;\n",
       "    }\n",
       "\n",
       "    .dataframe tbody tr th {\n",
       "        vertical-align: top;\n",
       "    }\n",
       "\n",
       "    .dataframe thead th {\n",
       "        text-align: right;\n",
       "    }\n",
       "</style>\n",
       "<table border=\"1\" class=\"dataframe\">\n",
       "  <thead>\n",
       "    <tr style=\"text-align: right;\">\n",
       "      <th></th>\n",
       "      <th>biofeedback</th>\n",
       "      <th>diet</th>\n",
       "      <th>drug</th>\n",
       "      <th>pressure</th>\n",
       "    </tr>\n",
       "  </thead>\n",
       "  <tbody>\n",
       "    <tr>\n",
       "      <th>4</th>\n",
       "      <td>present</td>\n",
       "      <td>absent</td>\n",
       "      <td>1</td>\n",
       "      <td>160</td>\n",
       "    </tr>\n",
       "    <tr>\n",
       "      <th>62</th>\n",
       "      <td>absent</td>\n",
       "      <td>absent</td>\n",
       "      <td>3</td>\n",
       "      <td>190</td>\n",
       "    </tr>\n",
       "    <tr>\n",
       "      <th>18</th>\n",
       "      <td>present</td>\n",
       "      <td>present</td>\n",
       "      <td>2</td>\n",
       "      <td>164</td>\n",
       "    </tr>\n",
       "    <tr>\n",
       "      <th>0</th>\n",
       "      <td>present</td>\n",
       "      <td>absent</td>\n",
       "      <td>1</td>\n",
       "      <td>170</td>\n",
       "    </tr>\n",
       "    <tr>\n",
       "      <th>28</th>\n",
       "      <td>present</td>\n",
       "      <td>absent</td>\n",
       "      <td>3</td>\n",
       "      <td>204</td>\n",
       "    </tr>\n",
       "    <tr>\n",
       "      <th>50</th>\n",
       "      <td>absent</td>\n",
       "      <td>absent</td>\n",
       "      <td>2</td>\n",
       "      <td>217</td>\n",
       "    </tr>\n",
       "    <tr>\n",
       "      <th>10</th>\n",
       "      <td>present</td>\n",
       "      <td>present</td>\n",
       "      <td>1</td>\n",
       "      <td>181</td>\n",
       "    </tr>\n",
       "    <tr>\n",
       "      <th>34</th>\n",
       "      <td>present</td>\n",
       "      <td>present</td>\n",
       "      <td>3</td>\n",
       "      <td>180</td>\n",
       "    </tr>\n",
       "    <tr>\n",
       "      <th>12</th>\n",
       "      <td>present</td>\n",
       "      <td>absent</td>\n",
       "      <td>2</td>\n",
       "      <td>186</td>\n",
       "    </tr>\n",
       "    <tr>\n",
       "      <th>54</th>\n",
       "      <td>absent</td>\n",
       "      <td>present</td>\n",
       "      <td>2</td>\n",
       "      <td>171</td>\n",
       "    </tr>\n",
       "  </tbody>\n",
       "</table>\n",
       "</div>"
      ],
      "text/plain": [
       "   biofeedback     diet  drug  pressure\n",
       "4      present   absent     1       160\n",
       "62      absent   absent     3       190\n",
       "18     present  present     2       164\n",
       "0      present   absent     1       170\n",
       "28     present   absent     3       204\n",
       "50      absent   absent     2       217\n",
       "10     present  present     1       181\n",
       "34     present  present     3       180\n",
       "12     present   absent     2       186\n",
       "54      absent  present     2       171"
      ]
     },
     "execution_count": 3,
     "metadata": {},
     "output_type": "execute_result"
    }
   ],
   "source": [
    "data.sample(10, random_state=42)\n"
   ]
  },
  {
   "cell_type": "code",
   "execution_count": 4,
   "metadata": {
    "id": "19Ms6wGJKtNr"
   },
   "outputs": [
    {
     "data": {
      "text/html": [
       "<div>\n",
       "<style scoped>\n",
       "    .dataframe tbody tr th:only-of-type {\n",
       "        vertical-align: middle;\n",
       "    }\n",
       "\n",
       "    .dataframe tbody tr th {\n",
       "        vertical-align: top;\n",
       "    }\n",
       "\n",
       "    .dataframe thead th {\n",
       "        text-align: right;\n",
       "    }\n",
       "</style>\n",
       "<table border=\"1\" class=\"dataframe\">\n",
       "  <thead>\n",
       "    <tr style=\"text-align: right;\">\n",
       "      <th></th>\n",
       "      <th>biofeedback</th>\n",
       "      <th>diet</th>\n",
       "      <th>drug</th>\n",
       "      <th>pressure</th>\n",
       "    </tr>\n",
       "  </thead>\n",
       "  <tbody>\n",
       "    <tr>\n",
       "      <th>count</th>\n",
       "      <td>72</td>\n",
       "      <td>72</td>\n",
       "      <td>72.000000</td>\n",
       "      <td>72.000000</td>\n",
       "    </tr>\n",
       "    <tr>\n",
       "      <th>unique</th>\n",
       "      <td>2</td>\n",
       "      <td>2</td>\n",
       "      <td>NaN</td>\n",
       "      <td>NaN</td>\n",
       "    </tr>\n",
       "    <tr>\n",
       "      <th>top</th>\n",
       "      <td>present</td>\n",
       "      <td>absent</td>\n",
       "      <td>NaN</td>\n",
       "      <td>NaN</td>\n",
       "    </tr>\n",
       "    <tr>\n",
       "      <th>freq</th>\n",
       "      <td>36</td>\n",
       "      <td>36</td>\n",
       "      <td>NaN</td>\n",
       "      <td>NaN</td>\n",
       "    </tr>\n",
       "    <tr>\n",
       "      <th>mean</th>\n",
       "      <td>NaN</td>\n",
       "      <td>NaN</td>\n",
       "      <td>2.000000</td>\n",
       "      <td>184.500000</td>\n",
       "    </tr>\n",
       "    <tr>\n",
       "      <th>std</th>\n",
       "      <td>NaN</td>\n",
       "      <td>NaN</td>\n",
       "      <td>0.822226</td>\n",
       "      <td>17.838872</td>\n",
       "    </tr>\n",
       "    <tr>\n",
       "      <th>min</th>\n",
       "      <td>NaN</td>\n",
       "      <td>NaN</td>\n",
       "      <td>1.000000</td>\n",
       "      <td>152.000000</td>\n",
       "    </tr>\n",
       "    <tr>\n",
       "      <th>25%</th>\n",
       "      <td>NaN</td>\n",
       "      <td>NaN</td>\n",
       "      <td>1.000000</td>\n",
       "      <td>170.750000</td>\n",
       "    </tr>\n",
       "    <tr>\n",
       "      <th>50%</th>\n",
       "      <td>NaN</td>\n",
       "      <td>NaN</td>\n",
       "      <td>2.000000</td>\n",
       "      <td>182.500000</td>\n",
       "    </tr>\n",
       "    <tr>\n",
       "      <th>75%</th>\n",
       "      <td>NaN</td>\n",
       "      <td>NaN</td>\n",
       "      <td>3.000000</td>\n",
       "      <td>198.250000</td>\n",
       "    </tr>\n",
       "    <tr>\n",
       "      <th>max</th>\n",
       "      <td>NaN</td>\n",
       "      <td>NaN</td>\n",
       "      <td>3.000000</td>\n",
       "      <td>228.000000</td>\n",
       "    </tr>\n",
       "  </tbody>\n",
       "</table>\n",
       "</div>"
      ],
      "text/plain": [
       "       biofeedback    diet       drug    pressure\n",
       "count           72      72  72.000000   72.000000\n",
       "unique           2       2        NaN         NaN\n",
       "top        present  absent        NaN         NaN\n",
       "freq            36      36        NaN         NaN\n",
       "mean           NaN     NaN   2.000000  184.500000\n",
       "std            NaN     NaN   0.822226   17.838872\n",
       "min            NaN     NaN   1.000000  152.000000\n",
       "25%            NaN     NaN   1.000000  170.750000\n",
       "50%            NaN     NaN   2.000000  182.500000\n",
       "75%            NaN     NaN   3.000000  198.250000\n",
       "max            NaN     NaN   3.000000  228.000000"
      ]
     },
     "execution_count": 4,
     "metadata": {},
     "output_type": "execute_result"
    }
   ],
   "source": [
    "data.describe(include='all')\n"
   ]
  },
  {
   "cell_type": "markdown",
   "metadata": {
    "id": "dx8AqagZKtNs"
   },
   "source": [
    "###   Three-factor dispersive analysis for patients "
   ]
  },
  {
   "cell_type": "code",
   "execution_count": 5,
   "metadata": {
    "id": "3AFDJbaxKtNs"
   },
   "outputs": [
    {
     "data": {
      "text/html": [
       "<div>\n",
       "<style scoped>\n",
       "    .dataframe tbody tr th:only-of-type {\n",
       "        vertical-align: middle;\n",
       "    }\n",
       "\n",
       "    .dataframe tbody tr th {\n",
       "        vertical-align: top;\n",
       "    }\n",
       "\n",
       "    .dataframe thead th {\n",
       "        text-align: right;\n",
       "    }\n",
       "</style>\n",
       "<table border=\"1\" class=\"dataframe\">\n",
       "  <thead>\n",
       "    <tr style=\"text-align: right;\">\n",
       "      <th></th>\n",
       "      <th>df</th>\n",
       "      <th>sum_sq</th>\n",
       "      <th>mean_sq</th>\n",
       "      <th>F</th>\n",
       "      <th>PR(&gt;F)</th>\n",
       "    </tr>\n",
       "  </thead>\n",
       "  <tbody>\n",
       "    <tr>\n",
       "      <th>C(biofeedback)</th>\n",
       "      <td>1.0</td>\n",
       "      <td>2048.0</td>\n",
       "      <td>2048.000000</td>\n",
       "      <td>13.072340</td>\n",
       "      <td>6.150719e-04</td>\n",
       "    </tr>\n",
       "    <tr>\n",
       "      <th>C(diet)</th>\n",
       "      <td>1.0</td>\n",
       "      <td>5202.0</td>\n",
       "      <td>5202.000000</td>\n",
       "      <td>33.204255</td>\n",
       "      <td>3.053308e-07</td>\n",
       "    </tr>\n",
       "    <tr>\n",
       "      <th>C(drug)</th>\n",
       "      <td>2.0</td>\n",
       "      <td>3675.0</td>\n",
       "      <td>1837.500000</td>\n",
       "      <td>11.728723</td>\n",
       "      <td>5.018624e-05</td>\n",
       "    </tr>\n",
       "    <tr>\n",
       "      <th>C(biofeedback):C(diet)</th>\n",
       "      <td>1.0</td>\n",
       "      <td>32.0</td>\n",
       "      <td>32.000000</td>\n",
       "      <td>0.204255</td>\n",
       "      <td>6.529374e-01</td>\n",
       "    </tr>\n",
       "    <tr>\n",
       "      <th>C(biofeedback):C(drug)</th>\n",
       "      <td>2.0</td>\n",
       "      <td>259.0</td>\n",
       "      <td>129.500000</td>\n",
       "      <td>0.826596</td>\n",
       "      <td>4.424565e-01</td>\n",
       "    </tr>\n",
       "    <tr>\n",
       "      <th>C(diet):C(drug)</th>\n",
       "      <td>2.0</td>\n",
       "      <td>903.0</td>\n",
       "      <td>451.500000</td>\n",
       "      <td>2.881915</td>\n",
       "      <td>6.381527e-02</td>\n",
       "    </tr>\n",
       "    <tr>\n",
       "      <th>C(biofeedback):C(diet):C(drug)</th>\n",
       "      <td>2.0</td>\n",
       "      <td>1075.0</td>\n",
       "      <td>537.500000</td>\n",
       "      <td>3.430851</td>\n",
       "      <td>3.883423e-02</td>\n",
       "    </tr>\n",
       "    <tr>\n",
       "      <th>Residual</th>\n",
       "      <td>60.0</td>\n",
       "      <td>9400.0</td>\n",
       "      <td>156.666667</td>\n",
       "      <td>NaN</td>\n",
       "      <td>NaN</td>\n",
       "    </tr>\n",
       "  </tbody>\n",
       "</table>\n",
       "</div>"
      ],
      "text/plain": [
       "                                  df  sum_sq      mean_sq          F  \\\n",
       "C(biofeedback)                   1.0  2048.0  2048.000000  13.072340   \n",
       "C(diet)                          1.0  5202.0  5202.000000  33.204255   \n",
       "C(drug)                          2.0  3675.0  1837.500000  11.728723   \n",
       "C(biofeedback):C(diet)           1.0    32.0    32.000000   0.204255   \n",
       "C(biofeedback):C(drug)           2.0   259.0   129.500000   0.826596   \n",
       "C(diet):C(drug)                  2.0   903.0   451.500000   2.881915   \n",
       "C(biofeedback):C(diet):C(drug)   2.0  1075.0   537.500000   3.430851   \n",
       "Residual                        60.0  9400.0   156.666667        NaN   \n",
       "\n",
       "                                      PR(>F)  \n",
       "C(biofeedback)                  6.150719e-04  \n",
       "C(diet)                         3.053308e-07  \n",
       "C(drug)                         5.018624e-05  \n",
       "C(biofeedback):C(diet)          6.529374e-01  \n",
       "C(biofeedback):C(drug)          4.424565e-01  \n",
       "C(diet):C(drug)                 6.381527e-02  \n",
       "C(biofeedback):C(diet):C(drug)  3.883423e-02  \n",
       "Residual                                 NaN  "
      ]
     },
     "execution_count": 5,
     "metadata": {},
     "output_type": "execute_result"
    }
   ],
   "source": [
    "lm = ols('pressure ~ C(biofeedback) * C(diet) * C(drug)', data=data).fit()\n",
    "table = sm.stats.anova_lm(lm, typ=1)\n",
    "table\n"
   ]
  },
  {
   "cell_type": "code",
   "execution_count": 6,
   "metadata": {
    "id": "dwL49cOwKtNt"
   },
   "outputs": [
    {
     "data": {
      "text/html": [
       "<div>\n",
       "<style scoped>\n",
       "    .dataframe tbody tr th:only-of-type {\n",
       "        vertical-align: middle;\n",
       "    }\n",
       "\n",
       "    .dataframe tbody tr th {\n",
       "        vertical-align: top;\n",
       "    }\n",
       "\n",
       "    .dataframe thead th {\n",
       "        text-align: right;\n",
       "    }\n",
       "</style>\n",
       "<table border=\"1\" class=\"dataframe\">\n",
       "  <thead>\n",
       "    <tr style=\"text-align: right;\">\n",
       "      <th></th>\n",
       "      <th>df</th>\n",
       "      <th>sum_sq</th>\n",
       "      <th>mean_sq</th>\n",
       "      <th>F</th>\n",
       "      <th>PR(&gt;F)</th>\n",
       "    </tr>\n",
       "  </thead>\n",
       "  <tbody>\n",
       "    <tr>\n",
       "      <th>C(biofeedback)</th>\n",
       "      <td>1.0</td>\n",
       "      <td>2048.0</td>\n",
       "      <td>2048.0</td>\n",
       "      <td>13.072340</td>\n",
       "      <td>6.150719e-04</td>\n",
       "    </tr>\n",
       "    <tr>\n",
       "      <th>C(diet)</th>\n",
       "      <td>1.0</td>\n",
       "      <td>5202.0</td>\n",
       "      <td>5202.0</td>\n",
       "      <td>33.204255</td>\n",
       "      <td>3.053308e-07</td>\n",
       "    </tr>\n",
       "    <tr>\n",
       "      <th>C(drug)</th>\n",
       "      <td>2.0</td>\n",
       "      <td>3675.0</td>\n",
       "      <td>1837.5</td>\n",
       "      <td>11.728723</td>\n",
       "      <td>5.018624e-05</td>\n",
       "    </tr>\n",
       "    <tr>\n",
       "      <th>C(biofeedback):C(diet):C(drug)</th>\n",
       "      <td>2.0</td>\n",
       "      <td>1075.0</td>\n",
       "      <td>537.5</td>\n",
       "      <td>3.430851</td>\n",
       "      <td>3.883423e-02</td>\n",
       "    </tr>\n",
       "  </tbody>\n",
       "</table>\n",
       "</div>"
      ],
      "text/plain": [
       "                                 df  sum_sq  mean_sq          F        PR(>F)\n",
       "C(biofeedback)                  1.0  2048.0   2048.0  13.072340  6.150719e-04\n",
       "C(diet)                         1.0  5202.0   5202.0  33.204255  3.053308e-07\n",
       "C(drug)                         2.0  3675.0   1837.5  11.728723  5.018624e-05\n",
       "C(biofeedback):C(diet):C(drug)  2.0  1075.0    537.5   3.430851  3.883423e-02"
      ]
     },
     "execution_count": 6,
     "metadata": {},
     "output_type": "execute_result"
    }
   ],
   "source": [
    "table[table['PR(>F)'] < 0.05]\n"
   ]
  },
  {
   "cell_type": "markdown",
   "metadata": {
    "id": "L9kPPQMjKtNt"
   },
   "source": [
    "###  # We'll build a schedule of interactions "
   ]
  },
  {
   "cell_type": "markdown",
   "metadata": {
    "id": "hyStWobcKtNu"
   },
   "source": [
    "$$X_{ijk} = \\mu + \\alpha_i + \\beta_j + \\gamma_{ij} + \\varepsilon_{ijk},$$\n",
    "\n",
    "$$i = 1, ..., K_1,\\ j = 1, ..., K_2,\\ k = 1, ..., n.$$\n",
    "\n",
    "- $\\mu$ is the total average value of the sign, \n",
    "\n",
    "- $\\alpha_i$ -- impact of $i dollar factor f_1, \n",
    "\n",
    "- $\\beta_j$ is the impact of $j's value of $f_2, \n",
    "\n",
    "- $\\gamma_{ij}$ is the additional effect of a combination of $i levels and $j factors of $f_1 and $f_2 \n",
    "\n",
    "- $\\varepsilon_{ijk}$ -- random independent equally distributed errors "
   ]
  },
  {
   "cell_type": "code",
   "execution_count": 7,
   "metadata": {
    "id": "v7GnrZ3AKtNv"
   },
   "outputs": [
    {
     "data": {
      "image/png": "[encoded data removed]",
      "text/plain": [
       "<Figure size 640x480 with 1 Axes>"
      ]
     },
     "metadata": {},
     "output_type": "display_data"
    },
    {
     "data": {
      "image/png": "[encoded data removed]",
      "text/plain": [
       "<Figure size 640x480 with 1 Axes>"
      ]
     },
     "metadata": {},
     "output_type": "display_data"
    }
   ],
   "source": [
    "plt.title('Diet: absent')\n",
    "_ = sns.pointplot(x=\"biofeedback\", y=\"pressure\", data=data.loc[data['diet']=='absent'], hue='drug')\n",
    "plt.show()\n",
    "\n",
    "plt.title('Diet: present')\n",
    "_ = sns.pointplot(x=\"biofeedback\", y=\"pressure\", data=data.loc[data['diet']=='present'], hue='drug')\n",
    "plt.show()\n"
   ]
  },
  {
   "cell_type": "code",
   "execution_count": 8,
   "metadata": {
    "id": "xL9zFr2BKtNv"
   },
   "outputs": [
    {
     "data": {
      "image/png": "[encoded data removed]",
      "text/plain": [
       "<Figure size 640x480 with 1 Axes>"
      ]
     },
     "metadata": {},
     "output_type": "display_data"
    },
    {
     "data": {
      "image/png": "[encoded data removed]",
      "text/plain": [
       "<Figure size 640x480 with 1 Axes>"
      ]
     },
     "metadata": {},
     "output_type": "display_data"
    }
   ],
   "source": [
    "plt.title('biofeedback: absent')\n",
    "_ = sns.pointplot(x=\"diet\", y=\"pressure\", data=data.loc[data['biofeedback']=='absent'], hue='drug')\n",
    "plt.show()\n",
    "\n",
    "plt.title('biofeedback: present')\n",
    "_ = sns.pointplot(x=\"diet\", y=\"pressure\", data=data.loc[data['biofeedback']=='present'], hue='drug')\n",
    "plt.show()\n"
   ]
  },
  {
   "cell_type": "markdown",
   "metadata": {
    "id": "omC9mnYDKtNw"
   },
   "source": [
    "  The triple interaction is significant, so we'll split the sample by one of the topics. "
   ]
  },
  {
   "cell_type": "markdown",
   "metadata": {
    "id": "-gUWfNYfKtNw"
   },
   "source": [
    "###   Two-factor dispersive analysis for psychotherapy patients "
   ]
  },
  {
   "cell_type": "code",
   "execution_count": 9,
   "metadata": {
    "id": "z1dePi8WKtNx"
   },
   "outputs": [
    {
     "data": {
      "text/html": [
       "<div>\n",
       "<style scoped>\n",
       "    .dataframe tbody tr th:only-of-type {\n",
       "        vertical-align: middle;\n",
       "    }\n",
       "\n",
       "    .dataframe tbody tr th {\n",
       "        vertical-align: top;\n",
       "    }\n",
       "\n",
       "    .dataframe thead th {\n",
       "        text-align: right;\n",
       "    }\n",
       "</style>\n",
       "<table border=\"1\" class=\"dataframe\">\n",
       "  <thead>\n",
       "    <tr style=\"text-align: right;\">\n",
       "      <th></th>\n",
       "      <th>df</th>\n",
       "      <th>sum_sq</th>\n",
       "      <th>mean_sq</th>\n",
       "      <th>F</th>\n",
       "      <th>PR(&gt;F)</th>\n",
       "    </tr>\n",
       "  </thead>\n",
       "  <tbody>\n",
       "    <tr>\n",
       "      <th>C(diet)</th>\n",
       "      <td>1.0</td>\n",
       "      <td>2209.0</td>\n",
       "      <td>2209.000000</td>\n",
       "      <td>15.248504</td>\n",
       "      <td>0.000496</td>\n",
       "    </tr>\n",
       "    <tr>\n",
       "      <th>C(drug)</th>\n",
       "      <td>2.0</td>\n",
       "      <td>2342.0</td>\n",
       "      <td>1171.000000</td>\n",
       "      <td>8.083295</td>\n",
       "      <td>0.001556</td>\n",
       "    </tr>\n",
       "    <tr>\n",
       "      <th>C(diet):C(drug)</th>\n",
       "      <td>2.0</td>\n",
       "      <td>1634.0</td>\n",
       "      <td>817.000000</td>\n",
       "      <td>5.639669</td>\n",
       "      <td>0.008334</td>\n",
       "    </tr>\n",
       "    <tr>\n",
       "      <th>Residual</th>\n",
       "      <td>30.0</td>\n",
       "      <td>4346.0</td>\n",
       "      <td>144.866667</td>\n",
       "      <td>NaN</td>\n",
       "      <td>NaN</td>\n",
       "    </tr>\n",
       "  </tbody>\n",
       "</table>\n",
       "</div>"
      ],
      "text/plain": [
       "                   df  sum_sq      mean_sq          F    PR(>F)\n",
       "C(diet)           1.0  2209.0  2209.000000  15.248504  0.000496\n",
       "C(drug)           2.0  2342.0  1171.000000   8.083295  0.001556\n",
       "C(diet):C(drug)   2.0  1634.0   817.000000   5.639669  0.008334\n",
       "Residual         30.0  4346.0   144.866667        NaN       NaN"
      ]
     },
     "execution_count": 9,
     "metadata": {},
     "output_type": "execute_result"
    }
   ],
   "source": [
    "lm = ols('pressure ~ C(diet) * C(drug)', data=data.loc[data['biofeedback']=='present']).fit()\n",
    "table = sm.stats.anova_lm(lm)\n",
    "table\n"
   ]
  },
  {
   "cell_type": "markdown",
   "metadata": {
    "id": "6UX8w-WIKtNx"
   },
   "source": [
    "  There's a significant inter-factorial interaction. "
   ]
  },
  {
   "cell_type": "markdown",
   "metadata": {
    "id": "eFl08T-xKtNx"
   },
   "source": [
    "###  # Graphs "
   ]
  },
  {
   "cell_type": "code",
   "execution_count": 10,
   "metadata": {
    "id": "gdkriyQOKtNy"
   },
   "outputs": [
    {
     "data": {
      "image/png": "[encoded data removed]",
      "text/plain": [
       "<Figure size 640x480 with 1 Axes>"
      ]
     },
     "metadata": {},
     "output_type": "display_data"
    },
    {
     "data": {
      "image/png": "[encoded data removed]",
      "text/plain": [
       "<Figure size 640x480 with 1 Axes>"
      ]
     },
     "metadata": {},
     "output_type": "display_data"
    }
   ],
   "source": [
    "_ = sns.pointplot(x=\"diet\", y=\"pressure\", data=data.loc[data['biofeedback']=='present'], hue='drug')\n",
    "plt.show()\n",
    "_ = sns.pointplot(x=\"drug\", y=\"pressure\", data=data.loc[data['biofeedback']=='present'], hue='diet')\n",
    "plt.show()\n"
   ]
  },
  {
   "cell_type": "markdown",
   "metadata": {
    "id": "_yihjMjxKtNy"
   },
   "source": [
    "  So let's split the sample again. "
   ]
  },
  {
   "cell_type": "markdown",
   "metadata": {
    "id": "e5nGQBOxKtNy"
   },
   "source": [
    "###   Single-factor analysis for patients undergoing psychotherapy and dieting: "
   ]
  },
  {
   "cell_type": "code",
   "execution_count": 11,
   "metadata": {
    "id": "UlEohhd_KtNz"
   },
   "outputs": [
    {
     "data": {
      "image/png": "[encoded data removed]",
      "text/plain": [
       "<Figure size 640x480 with 1 Axes>"
      ]
     },
     "metadata": {},
     "output_type": "display_data"
    }
   ],
   "source": [
    "_ = sns.boxplot(x='drug', y='pressure', data=data[(data['biofeedback']=='present') & (data['diet']=='present')])\n",
    "plt.show()\n"
   ]
  },
  {
   "cell_type": "code",
   "execution_count": 12,
   "metadata": {
    "id": "xfIY3sgjKtNz"
   },
   "outputs": [
    {
     "data": {
      "text/html": [
       "<div>\n",
       "<style scoped>\n",
       "    .dataframe tbody tr th:only-of-type {\n",
       "        vertical-align: middle;\n",
       "    }\n",
       "\n",
       "    .dataframe tbody tr th {\n",
       "        vertical-align: top;\n",
       "    }\n",
       "\n",
       "    .dataframe thead th {\n",
       "        text-align: right;\n",
       "    }\n",
       "</style>\n",
       "<table border=\"1\" class=\"dataframe\">\n",
       "  <thead>\n",
       "    <tr style=\"text-align: right;\">\n",
       "      <th></th>\n",
       "      <th>df</th>\n",
       "      <th>sum_sq</th>\n",
       "      <th>mean_sq</th>\n",
       "      <th>F</th>\n",
       "      <th>PR(&gt;F)</th>\n",
       "    </tr>\n",
       "  </thead>\n",
       "  <tbody>\n",
       "    <tr>\n",
       "      <th>C(drug)</th>\n",
       "      <td>2.0</td>\n",
       "      <td>52.0</td>\n",
       "      <td>26.0</td>\n",
       "      <td>0.164141</td>\n",
       "      <td>0.850126</td>\n",
       "    </tr>\n",
       "    <tr>\n",
       "      <th>Residual</th>\n",
       "      <td>15.0</td>\n",
       "      <td>2376.0</td>\n",
       "      <td>158.4</td>\n",
       "      <td>NaN</td>\n",
       "      <td>NaN</td>\n",
       "    </tr>\n",
       "  </tbody>\n",
       "</table>\n",
       "</div>"
      ],
      "text/plain": [
       "            df  sum_sq  mean_sq         F    PR(>F)\n",
       "C(drug)    2.0    52.0     26.0  0.164141  0.850126\n",
       "Residual  15.0  2376.0    158.4       NaN       NaN"
      ]
     },
     "execution_count": 12,
     "metadata": {},
     "output_type": "execute_result"
    }
   ],
   "source": [
    "lm =  ols('pressure ~ C(drug)',data=data.loc[(data['biofeedback']=='present') & (data['diet']=='present')]).fit()\n",
    "table = sm.stats.anova_lm(lm)\n",
    "table\n"
   ]
  },
  {
   "cell_type": "markdown",
   "metadata": {
    "id": "G1bWfBOZKtN0"
   },
   "source": [
    "  Expected p-value: ``~0.850126 `'' "
   ]
  },
  {
   "cell_type": "markdown",
   "metadata": {
    "id": "wQn7mQdpKtN0"
   },
   "source": [
    "###   Single-factor analysis for patients undergoing psychotherapy who do not sit on a diet: "
   ]
  },
  {
   "cell_type": "code",
   "execution_count": 13,
   "metadata": {
    "id": "ezJKq7rpKtN0"
   },
   "outputs": [
    {
     "data": {
      "image/png": "[encoded data removed]",
      "text/plain": [
       "<Figure size 640x480 with 1 Axes>"
      ]
     },
     "metadata": {},
     "output_type": "display_data"
    }
   ],
   "source": [
    "_ = sns.boxplot(x='drug', y='pressure', data=data[(data['biofeedback']=='present') & (data['diet']=='absent')])\n"
   ]
  },
  {
   "cell_type": "code",
   "execution_count": 14,
   "metadata": {
    "id": "j8Sf3EAnKtN1"
   },
   "outputs": [
    {
     "data": {
      "text/html": [
       "<div>\n",
       "<style scoped>\n",
       "    .dataframe tbody tr th:only-of-type {\n",
       "        vertical-align: middle;\n",
       "    }\n",
       "\n",
       "    .dataframe tbody tr th {\n",
       "        vertical-align: top;\n",
       "    }\n",
       "\n",
       "    .dataframe thead th {\n",
       "        text-align: right;\n",
       "    }\n",
       "</style>\n",
       "<table border=\"1\" class=\"dataframe\">\n",
       "  <thead>\n",
       "    <tr style=\"text-align: right;\">\n",
       "      <th></th>\n",
       "      <th>df</th>\n",
       "      <th>sum_sq</th>\n",
       "      <th>mean_sq</th>\n",
       "      <th>F</th>\n",
       "      <th>PR(&gt;F)</th>\n",
       "    </tr>\n",
       "  </thead>\n",
       "  <tbody>\n",
       "    <tr>\n",
       "      <th>C(drug)</th>\n",
       "      <td>2.0</td>\n",
       "      <td>3924.0</td>\n",
       "      <td>1962.000000</td>\n",
       "      <td>14.939086</td>\n",
       "      <td>0.000269</td>\n",
       "    </tr>\n",
       "    <tr>\n",
       "      <th>Residual</th>\n",
       "      <td>15.0</td>\n",
       "      <td>1970.0</td>\n",
       "      <td>131.333333</td>\n",
       "      <td>NaN</td>\n",
       "      <td>NaN</td>\n",
       "    </tr>\n",
       "  </tbody>\n",
       "</table>\n",
       "</div>"
      ],
      "text/plain": [
       "            df  sum_sq      mean_sq          F    PR(>F)\n",
       "C(drug)    2.0  3924.0  1962.000000  14.939086  0.000269\n",
       "Residual  15.0  1970.0   131.333333        NaN       NaN"
      ]
     },
     "execution_count": 14,
     "metadata": {},
     "output_type": "execute_result"
    }
   ],
   "source": [
    "lm =  ols('pressure ~ C(drug)',data=data.loc[(data['biofeedback']=='present') & (data['diet']=='absent')]).fit()\n",
    "table = sm.stats.anova_lm(lm)\n",
    "table\n"
   ]
  },
  {
   "cell_type": "markdown",
   "metadata": {
    "id": "CN7rQwkxKtN2"
   },
   "source": [
    "  Expected p-value: ``~0.00269''' "
   ]
  },
  {
   "cell_type": "markdown",
   "metadata": {
    "id": "wtIybVbBKtN3"
   },
   "source": [
    "###  # Researched differences in effects between groups "
   ]
  },
  {
   "cell_type": "code",
   "execution_count": 15,
   "metadata": {
    "id": "j3W0vbkxKtN4"
   },
   "outputs": [
    {
     "name": "stdout",
     "output_type": "stream",
     "text": [
      " Multiple Comparison of Means - Tukey HSD, FWER=0.05 \n",
      "=====================================================\n",
      "group1 group2 meandiff p-adj   lower    upper  reject\n",
      "-----------------------------------------------------\n",
      "     1      2     36.0 0.0002  18.8139 53.1861   True\n",
      "     1      3     21.0 0.0163   3.8139 38.1861   True\n",
      "     2      3    -15.0  0.092 -32.1861  2.1861  False\n",
      "-----------------------------------------------------\n"
     ]
    }
   ],
   "source": [
    "mc = MultiComparison(data.loc[(data['biofeedback']=='present') & (data['diet']=='absent')]['pressure'],\n",
    "                     data.loc[(data['biofeedback']=='present') & (data['diet']=='absent')]['drug'])\n",
    "result = mc.tukeyhsd()\n",
    "\n",
    "print(result)\n"
   ]
  },
  {
   "cell_type": "markdown",
   "metadata": {
    "id": "Jibh1fBDKtN5"
   },
   "source": [
    "  Drug 1 is more effective than the other two. "
   ]
  },
  {
   "cell_type": "markdown",
   "metadata": {
    "id": "fQQHV1CUKtN7"
   },
   "source": [
    "###   Two-factor dispersive analysis for non-psychotherapy patients: "
   ]
  },
  {
   "cell_type": "code",
   "execution_count": 16,
   "metadata": {
    "id": "-MBj5C6xKtN8"
   },
   "outputs": [
    {
     "data": {
      "text/html": [
       "<div>\n",
       "<style scoped>\n",
       "    .dataframe tbody tr th:only-of-type {\n",
       "        vertical-align: middle;\n",
       "    }\n",
       "\n",
       "    .dataframe tbody tr th {\n",
       "        vertical-align: top;\n",
       "    }\n",
       "\n",
       "    .dataframe thead th {\n",
       "        text-align: right;\n",
       "    }\n",
       "</style>\n",
       "<table border=\"1\" class=\"dataframe\">\n",
       "  <thead>\n",
       "    <tr style=\"text-align: right;\">\n",
       "      <th></th>\n",
       "      <th>df</th>\n",
       "      <th>sum_sq</th>\n",
       "      <th>mean_sq</th>\n",
       "      <th>F</th>\n",
       "      <th>PR(&gt;F)</th>\n",
       "    </tr>\n",
       "  </thead>\n",
       "  <tbody>\n",
       "    <tr>\n",
       "      <th>C(diet)</th>\n",
       "      <td>1.0</td>\n",
       "      <td>3025.0</td>\n",
       "      <td>3025.000000</td>\n",
       "      <td>17.956074</td>\n",
       "      <td>0.000198</td>\n",
       "    </tr>\n",
       "    <tr>\n",
       "      <th>C(drug)</th>\n",
       "      <td>2.0</td>\n",
       "      <td>1592.0</td>\n",
       "      <td>796.000000</td>\n",
       "      <td>4.724970</td>\n",
       "      <td>0.016448</td>\n",
       "    </tr>\n",
       "    <tr>\n",
       "      <th>C(diet):C(drug)</th>\n",
       "      <td>2.0</td>\n",
       "      <td>344.0</td>\n",
       "      <td>172.000000</td>\n",
       "      <td>1.020973</td>\n",
       "      <td>0.372422</td>\n",
       "    </tr>\n",
       "    <tr>\n",
       "      <th>Residual</th>\n",
       "      <td>30.0</td>\n",
       "      <td>5054.0</td>\n",
       "      <td>168.466667</td>\n",
       "      <td>NaN</td>\n",
       "      <td>NaN</td>\n",
       "    </tr>\n",
       "  </tbody>\n",
       "</table>\n",
       "</div>"
      ],
      "text/plain": [
       "                   df  sum_sq      mean_sq          F    PR(>F)\n",
       "C(diet)           1.0  3025.0  3025.000000  17.956074  0.000198\n",
       "C(drug)           2.0  1592.0   796.000000   4.724970  0.016448\n",
       "C(diet):C(drug)   2.0   344.0   172.000000   1.020973  0.372422\n",
       "Residual         30.0  5054.0   168.466667        NaN       NaN"
      ]
     },
     "execution_count": 16,
     "metadata": {},
     "output_type": "execute_result"
    }
   ],
   "source": [
    "lm = ols('pressure ~ C(diet) * C(drug)',data=data[data['biofeedback']=='absent']).fit()\n",
    "table = sm.stats.anova_lm(lm, typ=1)\n",
    "table\n"
   ]
  },
  {
   "cell_type": "markdown",
   "metadata": {
    "id": "vBDHe-jkKtN8"
   },
   "source": [
    "  Inter-factorial interaction is insignificant: "
   ]
  },
  {
   "cell_type": "code",
   "execution_count": 17,
   "metadata": {
    "id": "fwvgx-pwKtN9"
   },
   "outputs": [
    {
     "data": {
      "image/png": "[encoded data removed]",
      "text/plain": [
       "<Figure size 640x480 with 1 Axes>"
      ]
     },
     "metadata": {},
     "output_type": "display_data"
    },
    {
     "data": {
      "image/png": "[encoded data removed]",
      "text/plain": [
       "<Figure size 640x480 with 1 Axes>"
      ]
     },
     "metadata": {},
     "output_type": "display_data"
    }
   ],
   "source": [
    "_ = sns.pointplot(x=\"diet\", y=\"pressure\", data=data[data['biofeedback']=='absent'], hue='drug')\n",
    "plt.show()\n",
    "\n",
    "_ = sns.pointplot(x=\"drug\", y=\"pressure\", data=data[data['biofeedback']=='absent'], hue='diet')\n",
    "plt.show()\n"
   ]
  },
  {
   "cell_type": "markdown",
   "metadata": {
    "id": "pHGUtssLKtN9"
   },
   "source": [
    "###  # Researched two-by-one differences in the effects of each drug according to diet "
   ]
  },
  {
   "cell_type": "code",
   "execution_count": 18,
   "metadata": {
    "id": "h7F_WYBvKtN-"
   },
   "outputs": [
    {
     "name": "stdout",
     "output_type": "stream",
     "text": [
      " Multiple Comparison of Means - Tukey HSD, FWER=0.05 \n",
      "=====================================================\n",
      "group1 group2 meandiff p-adj   lower    upper  reject\n",
      "-----------------------------------------------------\n",
      "     1      2     24.0 0.0006   9.8911 38.1089   True\n",
      "     1      3     21.0 0.0025   6.8911 35.1089   True\n",
      "     2      3     -3.0 0.8613 -17.1089 11.1089  False\n",
      "-----------------------------------------------------\n"
     ]
    }
   ],
   "source": [
    "subset = data[data.diet == 'absent']\n",
    "mc = MultiComparison(subset['pressure'], subset['drug'])\n",
    "result = mc.tukeyhsd()\n",
    "print(result)\n"
   ]
  },
  {
   "cell_type": "code",
   "execution_count": 19,
   "metadata": {
    "id": "VIwXONGcKtN_"
   },
   "outputs": [
    {
     "name": "stdout",
     "output_type": "stream",
     "text": [
      " Multiple Comparison of Means - Tukey HSD, FWER=0.05 \n",
      "=====================================================\n",
      "group1 group2 meandiff p-adj   lower    upper  reject\n",
      "-----------------------------------------------------\n",
      "     1      2      8.5  0.299  -5.3061 22.3061  False\n",
      "     1      3      6.5 0.4878  -7.3061 20.3061  False\n",
      "     2      3     -2.0 0.9329 -15.8061 11.8061  False\n",
      "-----------------------------------------------------\n"
     ]
    }
   ],
   "source": [
    "subset = data[data.diet == 'present']\n",
    "mc = MultiComparison(subset['pressure'], subset['drug'])\n",
    "result = mc.tukeyhsd()\n",
    "print(result)\n"
   ]
  },
  {
   "cell_type": "markdown",
   "metadata": {
    "id": "0iCxILYQKtN_"
   },
   "source": [
    "  ### Subtotal: \n",
    "  * If the patient is not receiving psychotherapy, diet adherence results in a significant reduction in the pressure at any of the three medications; \n",
    "  The effectiveness of all three drugs is indistinguishable for diet and psychotherapy patients; \n",
    "  * For patients undergoing psychotherapy who do not sit on a diet, drug 1 is more effective on average by about 20 mm.    C.O.D.    The Committee recommends that the State party take all necessary measures to ensure the full implementation of the provisions of the Convention. \n",
    "  * To draw other possible conclusions (e.g., assess the effects of psychotherapy and diet effects for those undergoing psychotherapy), it is necessary to break down the three-factor analysis on two other topics. \n"
   ]
  },
  {
   "cell_type": "markdown",
   "metadata": {
    "id": "dTOqxbnQKtOA"
   },
   "source": [
    "  ## The growth of choir singers ♪ \n",
    "**Cleveland W. S. (1993) Visualizing Data. Summit, New Jersey: Hobart Press. **"
   ]
  },
  {
   "cell_type": "markdown",
   "metadata": {
    "id": "yqOUQjQ9KtOB"
   },
   "source": [
    "  In 1979, 235 members of the New York Glee Association were interviewed, each of whom has a record of growth and a voice register.    Does average growth change with the register? \n"
   ]
  },
  {
   "cell_type": "code",
   "execution_count": 20,
   "metadata": {
    "id": "E60YOI3DKtOB"
   },
   "outputs": [
    {
     "data": {
      "text/html": [
       "<div>\n",
       "<style scoped>\n",
       "    .dataframe tbody tr th:only-of-type {\n",
       "        vertical-align: middle;\n",
       "    }\n",
       "\n",
       "    .dataframe tbody tr th {\n",
       "        vertical-align: top;\n",
       "    }\n",
       "\n",
       "    .dataframe thead th {\n",
       "        text-align: right;\n",
       "    }\n",
       "</style>\n",
       "<table border=\"1\" class=\"dataframe\">\n",
       "  <thead>\n",
       "    <tr style=\"text-align: right;\">\n",
       "      <th></th>\n",
       "      <th>height</th>\n",
       "      <th>voice.part</th>\n",
       "    </tr>\n",
       "  </thead>\n",
       "  <tbody>\n",
       "    <tr>\n",
       "      <th>0</th>\n",
       "      <td>64</td>\n",
       "      <td>Soprano 1</td>\n",
       "    </tr>\n",
       "    <tr>\n",
       "      <th>1</th>\n",
       "      <td>62</td>\n",
       "      <td>Soprano 1</td>\n",
       "    </tr>\n",
       "    <tr>\n",
       "      <th>2</th>\n",
       "      <td>66</td>\n",
       "      <td>Soprano 1</td>\n",
       "    </tr>\n",
       "    <tr>\n",
       "      <th>3</th>\n",
       "      <td>65</td>\n",
       "      <td>Soprano 1</td>\n",
       "    </tr>\n",
       "    <tr>\n",
       "      <th>4</th>\n",
       "      <td>60</td>\n",
       "      <td>Soprano 1</td>\n",
       "    </tr>\n",
       "  </tbody>\n",
       "</table>\n",
       "</div>"
      ],
      "text/plain": [
       "   height voice.part\n",
       "0      64  Soprano 1\n",
       "1      62  Soprano 1\n",
       "2      66  Soprano 1\n",
       "3      65  Soprano 1\n",
       "4      60  Soprano 1"
      ]
     },
     "execution_count": 20,
     "metadata": {},
     "output_type": "execute_result"
    }
   ],
   "source": [
    "data =  sm.datasets.get_rdataset('singer', 'lattice').data\n",
    "data.head()\n"
   ]
  },
  {
   "cell_type": "markdown",
   "metadata": {
    "id": "aZPEkklKKtOB"
   },
   "source": [
    "  We're going to say two columns and we're going to turn growth into centimeters. "
   ]
  },
  {
   "cell_type": "code",
   "execution_count": 21,
   "metadata": {
    "id": "0YPv6iTiKtOB"
   },
   "outputs": [],
   "source": [
    "data.columns = ['height', 'voice']\n",
    "data['height'] *= 2.54\n"
   ]
  },
  {
   "cell_type": "code",
   "execution_count": 22,
   "metadata": {
    "id": "wdCnIp2cKtOC"
   },
   "outputs": [
    {
     "data": {
      "text/html": [
       "<div>\n",
       "<style scoped>\n",
       "    .dataframe tbody tr th:only-of-type {\n",
       "        vertical-align: middle;\n",
       "    }\n",
       "\n",
       "    .dataframe tbody tr th {\n",
       "        vertical-align: top;\n",
       "    }\n",
       "\n",
       "    .dataframe thead th {\n",
       "        text-align: right;\n",
       "    }\n",
       "</style>\n",
       "<table border=\"1\" class=\"dataframe\">\n",
       "  <thead>\n",
       "    <tr style=\"text-align: right;\">\n",
       "      <th></th>\n",
       "      <th>height</th>\n",
       "    </tr>\n",
       "  </thead>\n",
       "  <tbody>\n",
       "    <tr>\n",
       "      <th>count</th>\n",
       "      <td>235.000000</td>\n",
       "    </tr>\n",
       "    <tr>\n",
       "      <th>mean</th>\n",
       "      <td>170.936596</td>\n",
       "    </tr>\n",
       "    <tr>\n",
       "      <th>std</th>\n",
       "      <td>9.714908</td>\n",
       "    </tr>\n",
       "    <tr>\n",
       "      <th>min</th>\n",
       "      <td>152.400000</td>\n",
       "    </tr>\n",
       "    <tr>\n",
       "      <th>25%</th>\n",
       "      <td>165.100000</td>\n",
       "    </tr>\n",
       "    <tr>\n",
       "      <th>50%</th>\n",
       "      <td>170.180000</td>\n",
       "    </tr>\n",
       "    <tr>\n",
       "      <th>75%</th>\n",
       "      <td>177.800000</td>\n",
       "    </tr>\n",
       "    <tr>\n",
       "      <th>max</th>\n",
       "      <td>193.040000</td>\n",
       "    </tr>\n",
       "  </tbody>\n",
       "</table>\n",
       "</div>"
      ],
      "text/plain": [
       "           height\n",
       "count  235.000000\n",
       "mean   170.936596\n",
       "std      9.714908\n",
       "min    152.400000\n",
       "25%    165.100000\n",
       "50%    170.180000\n",
       "75%    177.800000\n",
       "max    193.040000"
      ]
     },
     "execution_count": 22,
     "metadata": {},
     "output_type": "execute_result"
    }
   ],
   "source": [
    "data.describe()\n"
   ]
  },
  {
   "cell_type": "code",
   "execution_count": 23,
   "metadata": {
    "id": "OL55ZT15KtOC"
   },
   "outputs": [
    {
     "data": {
      "image/png": "[encoded data removed]",
      "text/plain": [
       "<Figure size 640x480 with 1 Axes>"
      ]
     },
     "metadata": {},
     "output_type": "display_data"
    }
   ],
   "source": [
    "_ = sns.boxplot(x='height', y='voice', data=data)\n",
    "plt.show()\n"
   ]
  },
  {
   "cell_type": "markdown",
   "metadata": {
    "id": "xu7PeAqdKtOC"
   },
   "source": [
    "###   Single dispersive analysis: "
   ]
  },
  {
   "cell_type": "code",
   "execution_count": 24,
   "metadata": {
    "id": "b_aobfzSKtOC"
   },
   "outputs": [
    {
     "data": {
      "text/html": [
       "<div>\n",
       "<style scoped>\n",
       "    .dataframe tbody tr th:only-of-type {\n",
       "        vertical-align: middle;\n",
       "    }\n",
       "\n",
       "    .dataframe tbody tr th {\n",
       "        vertical-align: top;\n",
       "    }\n",
       "\n",
       "    .dataframe thead th {\n",
       "        text-align: right;\n",
       "    }\n",
       "</style>\n",
       "<table border=\"1\" class=\"dataframe\">\n",
       "  <thead>\n",
       "    <tr style=\"text-align: right;\">\n",
       "      <th></th>\n",
       "      <th>df</th>\n",
       "      <th>sum_sq</th>\n",
       "      <th>mean_sq</th>\n",
       "      <th>F</th>\n",
       "      <th>PR(&gt;F)</th>\n",
       "    </tr>\n",
       "  </thead>\n",
       "  <tbody>\n",
       "    <tr>\n",
       "      <th>C(voice)</th>\n",
       "      <td>7.0</td>\n",
       "      <td>12911.303982</td>\n",
       "      <td>1844.471997</td>\n",
       "      <td>45.641891</td>\n",
       "      <td>5.617050e-40</td>\n",
       "    </tr>\n",
       "    <tr>\n",
       "      <th>Residual</th>\n",
       "      <td>227.0</td>\n",
       "      <td>9173.483695</td>\n",
       "      <td>40.411822</td>\n",
       "      <td>NaN</td>\n",
       "      <td>NaN</td>\n",
       "    </tr>\n",
       "  </tbody>\n",
       "</table>\n",
       "</div>"
      ],
      "text/plain": [
       "             df        sum_sq      mean_sq          F        PR(>F)\n",
       "C(voice)    7.0  12911.303982  1844.471997  45.641891  5.617050e-40\n",
       "Residual  227.0   9173.483695    40.411822        NaN           NaN"
      ]
     },
     "execution_count": 24,
     "metadata": {},
     "output_type": "execute_result"
    }
   ],
   "source": [
    "lm = ols('height ~ C(voice)', data=data).fit()\n",
    "table = sm.stats.anova_lm(lm)\n",
    "table\n"
   ]
  },
  {
   "cell_type": "markdown",
   "metadata": {
    "id": "_kalDLuZKtOD"
   },
   "source": [
    "  Expected p-value ~ `5.6e-40' "
   ]
  },
  {
   "cell_type": "code",
   "execution_count": 25,
   "metadata": {
    "id": "Jqd8oelqKtOD"
   },
   "outputs": [
    {
     "data": {
      "text/html": [
       "<div>\n",
       "<style scoped>\n",
       "    .dataframe tbody tr th:only-of-type {\n",
       "        vertical-align: middle;\n",
       "    }\n",
       "\n",
       "    .dataframe tbody tr th {\n",
       "        vertical-align: top;\n",
       "    }\n",
       "\n",
       "    .dataframe thead th {\n",
       "        text-align: right;\n",
       "    }\n",
       "</style>\n",
       "<table border=\"1\" class=\"dataframe\">\n",
       "  <thead>\n",
       "    <tr style=\"text-align: right;\">\n",
       "      <th></th>\n",
       "      <th>height</th>\n",
       "    </tr>\n",
       "    <tr>\n",
       "      <th>voice</th>\n",
       "      <th></th>\n",
       "    </tr>\n",
       "  </thead>\n",
       "  <tbody>\n",
       "    <tr>\n",
       "      <th>Alto 1</th>\n",
       "      <td>164.809714</td>\n",
       "    </tr>\n",
       "    <tr>\n",
       "      <th>Alto 2</th>\n",
       "      <td>167.734074</td>\n",
       "    </tr>\n",
       "    <tr>\n",
       "      <th>Bass 1</th>\n",
       "      <td>179.623590</td>\n",
       "    </tr>\n",
       "    <tr>\n",
       "      <th>Bass 2</th>\n",
       "      <td>181.316923</td>\n",
       "    </tr>\n",
       "    <tr>\n",
       "      <th>Soprano 1</th>\n",
       "      <td>163.195000</td>\n",
       "    </tr>\n",
       "    <tr>\n",
       "      <th>Soprano 2</th>\n",
       "      <td>162.475333</td>\n",
       "    </tr>\n",
       "    <tr>\n",
       "      <th>Tenor 1</th>\n",
       "      <td>175.018095</td>\n",
       "    </tr>\n",
       "    <tr>\n",
       "      <th>Tenor 2</th>\n",
       "      <td>177.558095</td>\n",
       "    </tr>\n",
       "  </tbody>\n",
       "</table>\n",
       "</div>"
      ],
      "text/plain": [
       "               height\n",
       "voice                \n",
       "Alto 1     164.809714\n",
       "Alto 2     167.734074\n",
       "Bass 1     179.623590\n",
       "Bass 2     181.316923\n",
       "Soprano 1  163.195000\n",
       "Soprano 2  162.475333\n",
       "Tenor 1    175.018095\n",
       "Tenor 2    177.558095"
      ]
     },
     "execution_count": 25,
     "metadata": {},
     "output_type": "execute_result"
    }
   ],
   "source": [
    "data.groupby('voice').mean()\n"
   ]
  },
  {
   "cell_type": "markdown",
   "metadata": {
    "id": "Vckxlq0uKtOD"
   },
   "source": [
    "###   Criterion of Kruskal on the equality of average: "
   ]
  },
  {
   "cell_type": "code",
   "execution_count": 26,
   "metadata": {
    "id": "B3IWoJvkKtOD"
   },
   "outputs": [
    {
     "data": {
      "text/plain": [
       "KruskalResult(statistic=229.8276956364947, pvalue=5.399740283982908e-46)"
      ]
     },
     "execution_count": 26,
     "metadata": {},
     "output_type": "execute_result"
    }
   ],
   "source": [
    "st.kruskal(*data.groupby('voice').groups.values())\n"
   ]
  },
  {
   "cell_type": "markdown",
   "metadata": {
    "id": "vIhUaQOCKtOE"
   },
   "source": [
    "###   Bartlett &apos; s variance equality criterion: "
   ]
  },
  {
   "cell_type": "code",
   "execution_count": 27,
   "metadata": {
    "id": "1gsS3tRDKtOE"
   },
   "outputs": [
    {
     "data": {
      "text/plain": [
       "BartlettResult(statistic=18.417706445737398, pvalue=0.010221018996479406)"
      ]
     },
     "execution_count": 27,
     "metadata": {},
     "output_type": "execute_result"
    }
   ],
   "source": [
    "st.bartlett(*data.groupby('voice').groups.values())\n"
   ]
  },
  {
   "cell_type": "markdown",
   "metadata": {
    "id": "ERSH4_VZKtOE"
   },
   "source": [
    "###   HSD Tuki: "
   ]
  },
  {
   "cell_type": "markdown",
   "metadata": {
    "id": "0Fjuo0CyKtOE"
   },
   "source": [
    "###  # The existence of differences between groups "
   ]
  },
  {
   "cell_type": "code",
   "execution_count": 28,
   "metadata": {
    "id": "W46koPz8KtOE"
   },
   "outputs": [
    {
     "name": "stdout",
     "output_type": "stream",
     "text": [
      "    Multiple Comparison of Means - Tukey HSD, FWER=0.05     \n",
      "============================================================\n",
      "  group1    group2  meandiff p-adj   lower    upper   reject\n",
      "------------------------------------------------------------\n",
      "   Alto 1    Alto 2   2.9244 0.6235  -2.0573    7.906  False\n",
      "   Alto 1    Bass 1  14.8139    0.0  10.2855  19.3423   True\n",
      "   Alto 1    Bass 2  16.5072    0.0  11.4717  21.5427   True\n",
      "   Alto 1 Soprano 1  -1.6147 0.9623  -6.2315   3.0021  False\n",
      "   Alto 1 Soprano 2  -2.3344 0.8195  -7.1734   2.5046  False\n",
      "   Alto 1   Tenor 1  10.2084    0.0     4.84  15.5768   True\n",
      "   Alto 1   Tenor 2  12.7484    0.0     7.38  18.1168   True\n",
      "   Alto 2    Bass 1  11.8895    0.0   7.0204  16.7587   True\n",
      "   Alto 2    Bass 2  13.5828    0.0   8.2389  18.9268   True\n",
      "   Alto 2 Soprano 1  -4.5391  0.099  -9.4905   0.4124  False\n",
      "   Alto 2 Soprano 2  -5.2587 0.0422  -10.418  -0.0995   True\n",
      "   Alto 2   Tenor 1    7.284 0.0027   1.6252  12.9428   True\n",
      "   Alto 2   Tenor 2    9.824    0.0   4.1652  15.4828   True\n",
      "   Bass 1    Bass 2   1.6933 0.9657  -3.2308   6.6175  False\n",
      "   Bass 1 Soprano 1 -16.4286    0.0 -20.9237 -11.9335   True\n",
      "   Bass 1 Soprano 2 -17.1483    0.0 -21.8714 -12.4252   True\n",
      "   Bass 1   Tenor 1  -4.6055 0.1352  -9.8696   0.6587  False\n",
      "   Bass 1   Tenor 2  -2.0655 0.9312  -7.3296   3.1987  False\n",
      "   Bass 2 Soprano 1 -18.1219    0.0 -23.1275 -13.1164   True\n",
      "   Bass 2 Soprano 2 -18.8416    0.0 -24.0528 -13.6303   True\n",
      "   Bass 2   Tenor 1  -6.2988 0.0192  -12.005  -0.5926   True\n",
      "   Bass 2   Tenor 2  -3.7588 0.4739   -9.465   1.9474  False\n",
      "Soprano 1 Soprano 2  -0.7197 0.9998  -5.5276   4.0882  False\n",
      "Soprano 1   Tenor 1  11.8231    0.0   6.4827  17.1635   True\n",
      "Soprano 1   Tenor 2  14.3631    0.0   9.0227  19.7035   True\n",
      "Soprano 2   Tenor 1  12.5428    0.0   7.0091  18.0764   True\n",
      "Soprano 2   Tenor 2  15.0828    0.0   9.5491  20.6164   True\n",
      "  Tenor 1   Tenor 2     2.54 0.9001  -3.4621   8.5421  False\n",
      "------------------------------------------------------------\n"
     ]
    }
   ],
   "source": [
    "mc = MultiComparison(data['height'], data['voice'])\n",
    "result = mc.tukeyhsd()\n",
    " \n",
    "print(result)\n"
   ]
  },
  {
   "cell_type": "markdown",
   "metadata": {
    "id": "6QfezIY0KtOF"
   },
   "source": [
    "  *## Outcome: \n",
    "  - in general, the type of voice has a significant effect on growth \n",
    "  - There are differences in this influence only between certain pairs of votes "
   ]
  },
  {
   "cell_type": "markdown",
   "metadata": {
    "id": "r8NqUTDHKtOF"
   },
   "source": [
    "  ## The effect of vitamin C on the growth of guinea pig teeth \n",
    "**Crampton E. W. (1947) The growth of the odontoblast of the incisor teeth as a criterion of vitamin C intake of the guinea pig. The Journal of Nutrition 33(5): 491–504. **"
   ]
  },
  {
   "cell_type": "markdown",
   "metadata": {
    "id": "5Yfx2_jgKtOF"
   },
   "source": [
    "  The experiment examined the effects of vitamin C on the growth of x_markdown_link_xx guinea pigs. \n",
    "  Three doses of vitamin (0.5, 1 and 2 mg) and two treatments (orange juice and pure ascorbine acid) were considered.    In each of the six levels of the two factors, measurements were made for 10 guinea pigs. "
   ]
  },
  {
   "cell_type": "code",
   "execution_count": 29,
   "metadata": {
    "id": "XXR-Fy9OKtOG"
   },
   "outputs": [
    {
     "data": {
      "text/html": [
       "<div>\n",
       "<style scoped>\n",
       "    .dataframe tbody tr th:only-of-type {\n",
       "        vertical-align: middle;\n",
       "    }\n",
       "\n",
       "    .dataframe tbody tr th {\n",
       "        vertical-align: top;\n",
       "    }\n",
       "\n",
       "    .dataframe thead th {\n",
       "        text-align: right;\n",
       "    }\n",
       "</style>\n",
       "<table border=\"1\" class=\"dataframe\">\n",
       "  <thead>\n",
       "    <tr style=\"text-align: right;\">\n",
       "      <th></th>\n",
       "      <th>len</th>\n",
       "      <th>supp</th>\n",
       "      <th>dose</th>\n",
       "    </tr>\n",
       "  </thead>\n",
       "  <tbody>\n",
       "    <tr>\n",
       "      <th>1</th>\n",
       "      <td>4.2</td>\n",
       "      <td>VC</td>\n",
       "      <td>0.5</td>\n",
       "    </tr>\n",
       "    <tr>\n",
       "      <th>2</th>\n",
       "      <td>11.5</td>\n",
       "      <td>VC</td>\n",
       "      <td>0.5</td>\n",
       "    </tr>\n",
       "    <tr>\n",
       "      <th>3</th>\n",
       "      <td>7.3</td>\n",
       "      <td>VC</td>\n",
       "      <td>0.5</td>\n",
       "    </tr>\n",
       "    <tr>\n",
       "      <th>4</th>\n",
       "      <td>5.8</td>\n",
       "      <td>VC</td>\n",
       "      <td>0.5</td>\n",
       "    </tr>\n",
       "    <tr>\n",
       "      <th>5</th>\n",
       "      <td>6.4</td>\n",
       "      <td>VC</td>\n",
       "      <td>0.5</td>\n",
       "    </tr>\n",
       "  </tbody>\n",
       "</table>\n",
       "</div>"
      ],
      "text/plain": [
       "    len supp  dose\n",
       "1   4.2   VC   0.5\n",
       "2  11.5   VC   0.5\n",
       "3   7.3   VC   0.5\n",
       "4   5.8   VC   0.5\n",
       "5   6.4   VC   0.5"
      ]
     },
     "execution_count": 29,
     "metadata": {},
     "output_type": "execute_result"
    }
   ],
   "source": [
    "data = pd.read_csv('https://raw.githubusercontent.com/Intelligent-Systems-Phystech/psad/master/seminars/sem6/data/ToothGrowth.csv', index_col=0)\n",
    "data.head()\n"
   ]
  },
  {
   "cell_type": "code",
   "execution_count": 30,
   "metadata": {
    "id": "IPmAG7WXKtOG"
   },
   "outputs": [
    {
     "data": {
      "text/plain": [
       "array(['VC', 'OJ'], dtype=object)"
      ]
     },
     "execution_count": 30,
     "metadata": {},
     "output_type": "execute_result"
    }
   ],
   "source": [
    "data.supp.unique()\n"
   ]
  },
  {
   "cell_type": "code",
   "execution_count": 31,
   "metadata": {
    "id": "SZ34CjD3KtOG"
   },
   "outputs": [
    {
     "data": {
      "image/png": "[encoded data removed]",
      "text/plain": [
       "<Figure size 640x480 with 1 Axes>"
      ]
     },
     "metadata": {},
     "output_type": "display_data"
    },
    {
     "data": {
      "image/png": "[encoded data removed]",
      "text/plain": [
       "<Figure size 640x480 with 1 Axes>"
      ]
     },
     "metadata": {},
     "output_type": "display_data"
    }
   ],
   "source": [
    "_ = sns.boxplot(x='dose', y='len', data=data)\n",
    "plt.show()\n",
    "\n",
    "_ = sns.boxplot(x='supp', y='len', data=data)\n",
    "plt.show()\n"
   ]
  },
  {
   "cell_type": "markdown",
   "metadata": {
    "id": "9tAdsBYOKtOH"
   },
   "source": [
    "###   Two-factor dispersive analysis "
   ]
  },
  {
   "cell_type": "markdown",
   "metadata": {
    "id": "tR5npOclKtOH"
   },
   "source": [
    "###  # Without inter-factorial interaction: "
   ]
  },
  {
   "cell_type": "code",
   "execution_count": 32,
   "metadata": {
    "id": "2sWXTbrnKtOI"
   },
   "outputs": [
    {
     "data": {
      "text/html": [
       "<div>\n",
       "<style scoped>\n",
       "    .dataframe tbody tr th:only-of-type {\n",
       "        vertical-align: middle;\n",
       "    }\n",
       "\n",
       "    .dataframe tbody tr th {\n",
       "        vertical-align: top;\n",
       "    }\n",
       "\n",
       "    .dataframe thead th {\n",
       "        text-align: right;\n",
       "    }\n",
       "</style>\n",
       "<table border=\"1\" class=\"dataframe\">\n",
       "  <thead>\n",
       "    <tr style=\"text-align: right;\">\n",
       "      <th></th>\n",
       "      <th>df</th>\n",
       "      <th>sum_sq</th>\n",
       "      <th>mean_sq</th>\n",
       "      <th>F</th>\n",
       "      <th>PR(&gt;F)</th>\n",
       "    </tr>\n",
       "  </thead>\n",
       "  <tbody>\n",
       "    <tr>\n",
       "      <th>C(supp)</th>\n",
       "      <td>1.0</td>\n",
       "      <td>205.350000</td>\n",
       "      <td>205.350000</td>\n",
       "      <td>14.016638</td>\n",
       "      <td>4.292793e-04</td>\n",
       "    </tr>\n",
       "    <tr>\n",
       "      <th>C(dose)</th>\n",
       "      <td>2.0</td>\n",
       "      <td>2426.434333</td>\n",
       "      <td>1213.217167</td>\n",
       "      <td>82.810935</td>\n",
       "      <td>1.871163e-17</td>\n",
       "    </tr>\n",
       "    <tr>\n",
       "      <th>Residual</th>\n",
       "      <td>56.0</td>\n",
       "      <td>820.425000</td>\n",
       "      <td>14.650446</td>\n",
       "      <td>NaN</td>\n",
       "      <td>NaN</td>\n",
       "    </tr>\n",
       "  </tbody>\n",
       "</table>\n",
       "</div>"
      ],
      "text/plain": [
       "            df       sum_sq      mean_sq          F        PR(>F)\n",
       "C(supp)    1.0   205.350000   205.350000  14.016638  4.292793e-04\n",
       "C(dose)    2.0  2426.434333  1213.217167  82.810935  1.871163e-17\n",
       "Residual  56.0   820.425000    14.650446        NaN           NaN"
      ]
     },
     "execution_count": 32,
     "metadata": {},
     "output_type": "execute_result"
    }
   ],
   "source": [
    "lm = ols('len ~ C(supp) + C(dose)',data=data).fit()\n",
    "table = sm.stats.anova_lm(lm)\n",
    "table\n"
   ]
  },
  {
   "cell_type": "markdown",
   "metadata": {
    "id": "mEr1pMqXKtOI"
   },
   "source": [
    "###  # Taking into account inter-factorial interaction: "
   ]
  },
  {
   "cell_type": "code",
   "execution_count": 33,
   "metadata": {
    "id": "-9hc-B4SKtOI"
   },
   "outputs": [
    {
     "data": {
      "text/html": [
       "<div>\n",
       "<style scoped>\n",
       "    .dataframe tbody tr th:only-of-type {\n",
       "        vertical-align: middle;\n",
       "    }\n",
       "\n",
       "    .dataframe tbody tr th {\n",
       "        vertical-align: top;\n",
       "    }\n",
       "\n",
       "    .dataframe thead th {\n",
       "        text-align: right;\n",
       "    }\n",
       "</style>\n",
       "<table border=\"1\" class=\"dataframe\">\n",
       "  <thead>\n",
       "    <tr style=\"text-align: right;\">\n",
       "      <th></th>\n",
       "      <th>df</th>\n",
       "      <th>sum_sq</th>\n",
       "      <th>mean_sq</th>\n",
       "      <th>F</th>\n",
       "      <th>PR(&gt;F)</th>\n",
       "    </tr>\n",
       "  </thead>\n",
       "  <tbody>\n",
       "    <tr>\n",
       "      <th>C(supp)</th>\n",
       "      <td>1.0</td>\n",
       "      <td>205.350000</td>\n",
       "      <td>205.350000</td>\n",
       "      <td>15.571979</td>\n",
       "      <td>2.311828e-04</td>\n",
       "    </tr>\n",
       "    <tr>\n",
       "      <th>C(dose)</th>\n",
       "      <td>2.0</td>\n",
       "      <td>2426.434333</td>\n",
       "      <td>1213.217167</td>\n",
       "      <td>91.999965</td>\n",
       "      <td>4.046291e-18</td>\n",
       "    </tr>\n",
       "    <tr>\n",
       "      <th>C(supp):C(dose)</th>\n",
       "      <td>2.0</td>\n",
       "      <td>108.319000</td>\n",
       "      <td>54.159500</td>\n",
       "      <td>4.106991</td>\n",
       "      <td>2.186027e-02</td>\n",
       "    </tr>\n",
       "    <tr>\n",
       "      <th>Residual</th>\n",
       "      <td>54.0</td>\n",
       "      <td>712.106000</td>\n",
       "      <td>13.187148</td>\n",
       "      <td>NaN</td>\n",
       "      <td>NaN</td>\n",
       "    </tr>\n",
       "  </tbody>\n",
       "</table>\n",
       "</div>"
      ],
      "text/plain": [
       "                   df       sum_sq      mean_sq          F        PR(>F)\n",
       "C(supp)           1.0   205.350000   205.350000  15.571979  2.311828e-04\n",
       "C(dose)           2.0  2426.434333  1213.217167  91.999965  4.046291e-18\n",
       "C(supp):C(dose)   2.0   108.319000    54.159500   4.106991  2.186027e-02\n",
       "Residual         54.0   712.106000    13.187148        NaN           NaN"
      ]
     },
     "execution_count": 33,
     "metadata": {},
     "output_type": "execute_result"
    }
   ],
   "source": [
    "lm = ols('len ~ C(supp) * C(dose)', data=data).fit()\n",
    "table = sm.stats.anova_lm(lm, typ=1)\n",
    "table\n"
   ]
  },
  {
   "cell_type": "markdown",
   "metadata": {
    "id": "i8ocXzNfKtOJ"
   },
   "source": [
    "###   Inter-factorial interaction: "
   ]
  },
  {
   "cell_type": "markdown",
   "metadata": {
    "id": "cwL_a2_BKtOJ"
   },
   "source": [
    "$$X_{ijk} = \\mu + \\alpha_i + \\beta_j + \\gamma_{ij} + \\varepsilon_{ijk},$$\n",
    "\n",
    "$$i = 1, ..., K_1,\\ j = 1, ..., K_2,\\ k = 1, ..., n.$$\n",
    "\n",
    "- $\\mu $is the total average value of the sign, \n",
    "\n",
    "- $\\alpha_i$ -- impact of $i dollar factor f_1, \n",
    "\n",
    "- $\\beta_j$ is the impact of $j's value of $f_2, \n",
    "\n",
    "- $\\gamma_{ij}$ is the additional effect of a combination of $i levels and $j factors of $f_1 and $f_2 \n",
    "\n",
    "- $\\varepsilon_{ijk}$ -- random independent equally distributed errors "
   ]
  },
  {
   "cell_type": "markdown",
   "metadata": {
    "id": "G7DcDLJrKtOJ"
   },
   "source": [
    "`sns.pointplot`:\n",
    "  - points -- mean values of the parameter studied for each group (nominal variable) \n",
    "  95 per cent confidence interval "
   ]
  },
  {
   "cell_type": "code",
   "execution_count": 34,
   "metadata": {
    "id": "JhUdX46YKtOK"
   },
   "outputs": [
    {
     "data": {
      "image/png": "[encoded data removed]",
      "text/plain": [
       "<Figure size 640x480 with 1 Axes>"
      ]
     },
     "metadata": {},
     "output_type": "display_data"
    },
    {
     "data": {
      "image/png": "[encoded data removed]",
      "text/plain": [
       "<Figure size 640x480 with 1 Axes>"
      ]
     },
     "metadata": {},
     "output_type": "display_data"
    }
   ],
   "source": [
    "_ = sns.pointplot(x=\"dose\", y=\"len\", data=data, hue='supp')\n",
    "plt.show()\n",
    "\n",
    "_ = sns.pointplot(x=\"supp\", y=\"len\", data=data, hue='dose')\n",
    "plt.show()\n"
   ]
  },
  {
   "cell_type": "markdown",
   "metadata": {
    "id": "mLawzrTCKtOK"
   },
   "source": [
    "  The interaction between the factors can be observed when the result of the effect of one factor on the dependent variable is not the same at different values of the other. "
   ]
  },
  {
   "cell_type": "markdown",
   "metadata": {
    "id": "MjnUHAzoKtOK"
   },
   "source": [
    "###   The interaction is significant, so let's split the sample by the way of taking vitamins. "
   ]
  },
  {
   "cell_type": "code",
   "execution_count": 35,
   "metadata": {
    "id": "cImzpkesKtOL"
   },
   "outputs": [
    {
     "data": {
      "text/plain": [
       "((30, 3), (30, 3))"
      ]
     },
     "execution_count": 35,
     "metadata": {},
     "output_type": "execute_result"
    }
   ],
   "source": [
    "OJ = data[data['supp']=='OJ']\n",
    "VC = data[data['supp']=='VC']\n",
    "VC.shape, OJ.shape\n"
   ]
  },
  {
   "cell_type": "markdown",
   "metadata": {
    "id": "rj2hvP1CKtOL"
   },
   "source": [
    "###  # For guinea pigs taking ascorbine acid: "
   ]
  },
  {
   "cell_type": "code",
   "execution_count": 36,
   "metadata": {
    "id": "iUUKL1VzKtOM"
   },
   "outputs": [
    {
     "data": {
      "image/png": "[encoded data removed]",
      "text/plain": [
       "<Figure size 640x480 with 1 Axes>"
      ]
     },
     "metadata": {},
     "output_type": "display_data"
    }
   ],
   "source": [
    "_ = sns.boxplot(x='dose', y='len', data=VC)\n",
    "plt.show()\n"
   ]
  },
  {
   "cell_type": "code",
   "execution_count": 37,
   "metadata": {
    "id": "sWVnwTRFKtOM"
   },
   "outputs": [
    {
     "data": {
      "text/html": [
       "<div>\n",
       "<style scoped>\n",
       "    .dataframe tbody tr th:only-of-type {\n",
       "        vertical-align: middle;\n",
       "    }\n",
       "\n",
       "    .dataframe tbody tr th {\n",
       "        vertical-align: top;\n",
       "    }\n",
       "\n",
       "    .dataframe thead th {\n",
       "        text-align: right;\n",
       "    }\n",
       "</style>\n",
       "<table border=\"1\" class=\"dataframe\">\n",
       "  <thead>\n",
       "    <tr style=\"text-align: right;\">\n",
       "      <th></th>\n",
       "      <th>df</th>\n",
       "      <th>sum_sq</th>\n",
       "      <th>mean_sq</th>\n",
       "      <th>F</th>\n",
       "      <th>PR(&gt;F)</th>\n",
       "    </tr>\n",
       "  </thead>\n",
       "  <tbody>\n",
       "    <tr>\n",
       "      <th>C(dose)</th>\n",
       "      <td>2.0</td>\n",
       "      <td>1649.488667</td>\n",
       "      <td>824.744333</td>\n",
       "      <td>67.072379</td>\n",
       "      <td>3.357317e-11</td>\n",
       "    </tr>\n",
       "    <tr>\n",
       "      <th>Residual</th>\n",
       "      <td>27.0</td>\n",
       "      <td>332.001000</td>\n",
       "      <td>12.296333</td>\n",
       "      <td>NaN</td>\n",
       "      <td>NaN</td>\n",
       "    </tr>\n",
       "  </tbody>\n",
       "</table>\n",
       "</div>"
      ],
      "text/plain": [
       "            df       sum_sq     mean_sq          F        PR(>F)\n",
       "C(dose)    2.0  1649.488667  824.744333  67.072379  3.357317e-11\n",
       "Residual  27.0   332.001000   12.296333        NaN           NaN"
      ]
     },
     "execution_count": 37,
     "metadata": {},
     "output_type": "execute_result"
    }
   ],
   "source": [
    "lm = ols('len ~ C(dose)',data=VC).fit()\n",
    "table = sm.stats.anova_lm(lm)\n",
    "table\n"
   ]
  },
  {
   "cell_type": "markdown",
   "metadata": {
    "id": "v_CnYLFfKtOM"
   },
   "source": [
    "  For guinea pigs taking ascorbine acid, the effect of different levels of dose factor varies "
   ]
  },
  {
   "cell_type": "markdown",
   "metadata": {
    "id": "EeOG29NZKtON"
   },
   "source": [
    "###  ## Criterion of Kraskel-Wallis on the equality of all middle groups "
   ]
  },
  {
   "cell_type": "code",
   "execution_count": 38,
   "metadata": {
    "id": "mT1CAcv9KtON"
   },
   "outputs": [
    {
     "data": {
      "text/plain": [
       "KruskalResult(statistic=25.80645161290323, pvalue=2.49000508218493e-06)"
      ]
     },
     "execution_count": 38,
     "metadata": {},
     "output_type": "execute_result"
    }
   ],
   "source": [
    "st.kruskal(*VC.groupby('dose').groups.values())\n"
   ]
  },
  {
   "cell_type": "markdown",
   "metadata": {
    "id": "3FZSTtPGKtON"
   },
   "source": [
    "###  ## Researched two-by-one differences in effects on the target point between all levels of dose factor "
   ]
  },
  {
   "cell_type": "code",
   "execution_count": 39,
   "metadata": {
    "id": "Vm4IORc3KtON"
   },
   "outputs": [
    {
     "name": "stdout",
     "output_type": "stream",
     "text": [
      "Multiple Comparison of Means - Tukey HSD, FWER=0.05\n",
      "===================================================\n",
      "group1 group2 meandiff p-adj  lower   upper  reject\n",
      "---------------------------------------------------\n",
      "   0.5    1.0     8.79   0.0  4.9018 12.6782   True\n",
      "   0.5    2.0    18.16   0.0 14.2718 22.0482   True\n",
      "   1.0    2.0     9.37   0.0  5.4818 13.2582   True\n",
      "---------------------------------------------------\n"
     ]
    }
   ],
   "source": [
    "mc = MultiComparison(VC['len'], VC['dose'])\n",
    "result = mc.tukeyhsd()\n",
    " \n",
    "print(result)\n"
   ]
  },
  {
   "cell_type": "markdown",
   "metadata": {
    "id": "zCzmyH8dKtON"
   },
   "source": [
    "  Significant differences in impact on target variable exist between each pair of groups "
   ]
  },
  {
   "cell_type": "markdown",
   "metadata": {
    "id": "lhPiscWEKtOO"
   },
   "source": [
    "###  # For guinea pigs taking orange juice: "
   ]
  },
  {
   "cell_type": "code",
   "execution_count": 40,
   "metadata": {
    "id": "vA4md7JHKtOO"
   },
   "outputs": [
    {
     "data": {
      "image/png": "[encoded data removed]",
      "text/plain": [
       "<Figure size 640x480 with 1 Axes>"
      ]
     },
     "metadata": {},
     "output_type": "display_data"
    }
   ],
   "source": [
    "_ = sns.boxplot(x='dose', y='len', data=OJ)\n",
    "plt.show()\n"
   ]
  },
  {
   "cell_type": "code",
   "execution_count": 41,
   "metadata": {
    "id": "kzQ9pqYVKtOP"
   },
   "outputs": [
    {
     "data": {
      "text/html": [
       "<div>\n",
       "<style scoped>\n",
       "    .dataframe tbody tr th:only-of-type {\n",
       "        vertical-align: middle;\n",
       "    }\n",
       "\n",
       "    .dataframe tbody tr th {\n",
       "        vertical-align: top;\n",
       "    }\n",
       "\n",
       "    .dataframe thead th {\n",
       "        text-align: right;\n",
       "    }\n",
       "</style>\n",
       "<table border=\"1\" class=\"dataframe\">\n",
       "  <thead>\n",
       "    <tr style=\"text-align: right;\">\n",
       "      <th></th>\n",
       "      <th>df</th>\n",
       "      <th>sum_sq</th>\n",
       "      <th>mean_sq</th>\n",
       "      <th>F</th>\n",
       "      <th>PR(&gt;F)</th>\n",
       "    </tr>\n",
       "  </thead>\n",
       "  <tbody>\n",
       "    <tr>\n",
       "      <th>C(dose)</th>\n",
       "      <td>2.0</td>\n",
       "      <td>885.264667</td>\n",
       "      <td>442.632333</td>\n",
       "      <td>31.441504</td>\n",
       "      <td>8.887164e-08</td>\n",
       "    </tr>\n",
       "    <tr>\n",
       "      <th>Residual</th>\n",
       "      <td>27.0</td>\n",
       "      <td>380.105000</td>\n",
       "      <td>14.077963</td>\n",
       "      <td>NaN</td>\n",
       "      <td>NaN</td>\n",
       "    </tr>\n",
       "  </tbody>\n",
       "</table>\n",
       "</div>"
      ],
      "text/plain": [
       "            df      sum_sq     mean_sq          F        PR(>F)\n",
       "C(dose)    2.0  885.264667  442.632333  31.441504  8.887164e-08\n",
       "Residual  27.0  380.105000   14.077963        NaN           NaN"
      ]
     },
     "execution_count": 41,
     "metadata": {},
     "output_type": "execute_result"
    }
   ],
   "source": [
    "lm = ols('len ~ C(dose)',data=OJ).fit()\n",
    "table = sm.stats.anova_lm(lm)\n",
    "table\n"
   ]
  },
  {
   "cell_type": "markdown",
   "metadata": {
    "id": "LCOOLvqOKtOP"
   },
   "source": [
    "  Reject the hypothesis that each level of the dose factor makes the same contribution to the target variable "
   ]
  },
  {
   "cell_type": "markdown",
   "metadata": {
    "id": "o9Cy2JZEKtOP"
   },
   "source": [
    "###  ## Researched two-by-one differences in effects on the target point between all levels of dose factor "
   ]
  },
  {
   "cell_type": "code",
   "execution_count": 42,
   "metadata": {
    "id": "kQ6ctRJxKtOQ"
   },
   "outputs": [
    {
     "name": "stdout",
     "output_type": "stream",
     "text": [
      "Multiple Comparison of Means - Tukey HSD, FWER=0.05 \n",
      "====================================================\n",
      "group1 group2 meandiff p-adj   lower   upper  reject\n",
      "----------------------------------------------------\n",
      "   0.5    1.0     9.47    0.0  5.3096 13.6304   True\n",
      "   0.5    2.0    12.83    0.0  8.6696 16.9904   True\n",
      "   1.0    2.0     3.36 0.1309 -0.8004  7.5204  False\n",
      "----------------------------------------------------\n"
     ]
    }
   ],
   "source": [
    "mc = MultiComparison(OJ['len'], OJ['dose'])\n",
    "result = mc.tukeyhsd()\n",
    " \n",
    "print(result)\n"
   ]
  },
  {
   "cell_type": "markdown",
   "metadata": {
    "id": "tAVP2nB6KtOQ"
   },
   "source": [
    "  There are no significant differences in effects on the target topic between 1 and 2 only "
   ]
  },
  {
   "cell_type": "code",
   "execution_count": 43,
   "metadata": {
    "id": "3CHhyVcUKtOQ"
   },
   "outputs": [
    {
     "data": {
      "image/png": "[encoded data removed]",
      "text/plain": [
       "<Figure size 640x480 with 1 Axes>"
      ]
     },
     "metadata": {},
     "output_type": "display_data"
    }
   ],
   "source": [
    "_ = sns.pointplot(x=\"dose\", y=\"len\", data=OJ)\n",
    "plt.title('Pointplot for orange juice')\n",
    "plt.show()\n"
   ]
  },
  {
   "cell_type": "markdown",
   "metadata": {
    "id": "UfQk6EwTKtOR"
   },
   "source": [
    "  ### Total \n",
    "  - For guinea pigs taking ascorbine acid, the difference between dose size is always significant \n",
    "  - For guinea pigs taking orange juice, the difference between the dose size of 1 and 2 mg is not significant "
   ]
  },
  {
   "cell_type": "markdown",
   "metadata": {
    "id": "_X2epvDpKtOR"
   },
   "source": [
    "  # # Marijuana and the speed of reaction \n"
   ]
  },
  {
   "cell_type": "markdown",
   "metadata": {
    "id": "PE0vi6IXKtOR"
   },
   "source": [
    "  The impact of marijuana on response rates was studied. \n",
    "  As subjects \n",
    "  12 persons were selected from each category: \n",
    "  * Never tried marijuana; \n",
    "  * Sometimes use marijuana; \n",
    "  * Regular use of marijuana. \n",
    "  \n",
    "  The subjects were divided into two equal groups; half of them gave \n",
    "  smoke two cigarettes with marijuana, the other half smoked two ordinary cigarettes. \n",
    "  Cigarettes with the smell and taste of marijuana.    Right after that, all the test subjects passed. \n",
    "  Reaction speed test. \n",
    "  The impact of marijuana on response rates needs to be assessed, taking into account \n",
    "  Previous consumption experience. "
   ]
  },
  {
   "cell_type": "code",
   "execution_count": 44,
   "metadata": {
    "id": "NdafU83aKtOS"
   },
   "outputs": [
    {
     "data": {
      "text/html": [
       "<div>\n",
       "<style scoped>\n",
       "    .dataframe tbody tr th:only-of-type {\n",
       "        vertical-align: middle;\n",
       "    }\n",
       "\n",
       "    .dataframe tbody tr th {\n",
       "        vertical-align: top;\n",
       "    }\n",
       "\n",
       "    .dataframe thead th {\n",
       "        text-align: right;\n",
       "    }\n",
       "</style>\n",
       "<table border=\"1\" class=\"dataframe\">\n",
       "  <thead>\n",
       "    <tr style=\"text-align: right;\">\n",
       "      <th></th>\n",
       "      <th>Placebo/Marijuana</th>\n",
       "      <th>None</th>\n",
       "      <th>Light</th>\n",
       "      <th>Moderate</th>\n",
       "    </tr>\n",
       "  </thead>\n",
       "  <tbody>\n",
       "    <tr>\n",
       "      <th>0</th>\n",
       "      <td>1</td>\n",
       "      <td>795</td>\n",
       "      <td>800</td>\n",
       "      <td>790</td>\n",
       "    </tr>\n",
       "    <tr>\n",
       "      <th>1</th>\n",
       "      <td>1</td>\n",
       "      <td>605</td>\n",
       "      <td>705</td>\n",
       "      <td>600</td>\n",
       "    </tr>\n",
       "    <tr>\n",
       "      <th>2</th>\n",
       "      <td>1</td>\n",
       "      <td>700</td>\n",
       "      <td>610</td>\n",
       "      <td>695</td>\n",
       "    </tr>\n",
       "    <tr>\n",
       "      <th>3</th>\n",
       "      <td>1</td>\n",
       "      <td>752</td>\n",
       "      <td>757</td>\n",
       "      <td>752</td>\n",
       "    </tr>\n",
       "    <tr>\n",
       "      <th>4</th>\n",
       "      <td>1</td>\n",
       "      <td>648</td>\n",
       "      <td>645</td>\n",
       "      <td>634</td>\n",
       "    </tr>\n",
       "  </tbody>\n",
       "</table>\n",
       "</div>"
      ],
      "text/plain": [
       "   Placebo/Marijuana  None  Light  Moderate\n",
       "0                  1   795    800       790\n",
       "1                  1   605    705       600\n",
       "2                  1   700    610       695\n",
       "3                  1   752    757       752\n",
       "4                  1   648    645       634"
      ]
     },
     "execution_count": 44,
     "metadata": {},
     "output_type": "execute_result"
    }
   ],
   "source": [
    "data = pd.read_csv('https://raw.githubusercontent.com/Intelligent-Systems-Phystech/psad/master/seminars/sem6/data/weed.txt', delimiter='\\t')\n",
    "data.head()\n"
   ]
  },
  {
   "cell_type": "code",
   "execution_count": 45,
   "metadata": {
    "id": "lCNC2hrLKtOU"
   },
   "outputs": [
    {
     "data": {
      "text/html": [
       "<div>\n",
       "<style scoped>\n",
       "    .dataframe tbody tr th:only-of-type {\n",
       "        vertical-align: middle;\n",
       "    }\n",
       "\n",
       "    .dataframe tbody tr th {\n",
       "        vertical-align: top;\n",
       "    }\n",
       "\n",
       "    .dataframe thead th {\n",
       "        text-align: right;\n",
       "    }\n",
       "</style>\n",
       "<table border=\"1\" class=\"dataframe\">\n",
       "  <thead>\n",
       "    <tr style=\"text-align: right;\">\n",
       "      <th></th>\n",
       "      <th>Placebo/Marijuana</th>\n",
       "      <th>None</th>\n",
       "      <th>Light</th>\n",
       "      <th>Moderate</th>\n",
       "    </tr>\n",
       "  </thead>\n",
       "  <tbody>\n",
       "    <tr>\n",
       "      <th>count</th>\n",
       "      <td>12.000000</td>\n",
       "      <td>12.000000</td>\n",
       "      <td>12.000000</td>\n",
       "      <td>12.000000</td>\n",
       "    </tr>\n",
       "    <tr>\n",
       "      <th>mean</th>\n",
       "      <td>1.500000</td>\n",
       "      <td>790.416667</td>\n",
       "      <td>733.416667</td>\n",
       "      <td>739.166667</td>\n",
       "    </tr>\n",
       "    <tr>\n",
       "      <th>std</th>\n",
       "      <td>0.522233</td>\n",
       "      <td>110.027648</td>\n",
       "      <td>70.766528</td>\n",
       "      <td>101.902657</td>\n",
       "    </tr>\n",
       "    <tr>\n",
       "      <th>min</th>\n",
       "      <td>1.000000</td>\n",
       "      <td>605.000000</td>\n",
       "      <td>610.000000</td>\n",
       "      <td>600.000000</td>\n",
       "    </tr>\n",
       "    <tr>\n",
       "      <th>25%</th>\n",
       "      <td>1.000000</td>\n",
       "      <td>707.500000</td>\n",
       "      <td>695.000000</td>\n",
       "      <td>680.000000</td>\n",
       "    </tr>\n",
       "    <tr>\n",
       "      <th>50%</th>\n",
       "      <td>1.500000</td>\n",
       "      <td>803.000000</td>\n",
       "      <td>735.000000</td>\n",
       "      <td>739.500000</td>\n",
       "    </tr>\n",
       "    <tr>\n",
       "      <th>75%</th>\n",
       "      <td>2.000000</td>\n",
       "      <td>868.250000</td>\n",
       "      <td>782.000000</td>\n",
       "      <td>784.000000</td>\n",
       "    </tr>\n",
       "    <tr>\n",
       "      <th>max</th>\n",
       "      <td>2.000000</td>\n",
       "      <td>965.000000</td>\n",
       "      <td>843.000000</td>\n",
       "      <td>983.000000</td>\n",
       "    </tr>\n",
       "  </tbody>\n",
       "</table>\n",
       "</div>"
      ],
      "text/plain": [
       "       Placebo/Marijuana        None       Light    Moderate\n",
       "count          12.000000   12.000000   12.000000   12.000000\n",
       "mean            1.500000  790.416667  733.416667  739.166667\n",
       "std             0.522233  110.027648   70.766528  101.902657\n",
       "min             1.000000  605.000000  610.000000  600.000000\n",
       "25%             1.000000  707.500000  695.000000  680.000000\n",
       "50%             1.500000  803.000000  735.000000  739.500000\n",
       "75%             2.000000  868.250000  782.000000  784.000000\n",
       "max             2.000000  965.000000  843.000000  983.000000"
      ]
     },
     "execution_count": 45,
     "metadata": {},
     "output_type": "execute_result"
    }
   ],
   "source": [
    "data.describe()\n"
   ]
  },
  {
   "cell_type": "code",
   "execution_count": 46,
   "metadata": {
    "id": "ZcEyJC_PKtOU"
   },
   "outputs": [
    {
     "data": {
      "text/html": [
       "<div>\n",
       "<style scoped>\n",
       "    .dataframe tbody tr th:only-of-type {\n",
       "        vertical-align: middle;\n",
       "    }\n",
       "\n",
       "    .dataframe tbody tr th {\n",
       "        vertical-align: top;\n",
       "    }\n",
       "\n",
       "    .dataframe thead th {\n",
       "        text-align: right;\n",
       "    }\n",
       "</style>\n",
       "<table border=\"1\" class=\"dataframe\">\n",
       "  <thead>\n",
       "    <tr style=\"text-align: right;\">\n",
       "      <th></th>\n",
       "      <th>Placebo/Marijuana</th>\n",
       "      <th>None</th>\n",
       "      <th>Light</th>\n",
       "      <th>Moderate</th>\n",
       "    </tr>\n",
       "  </thead>\n",
       "  <tbody>\n",
       "    <tr>\n",
       "      <th>0</th>\n",
       "      <td>1</td>\n",
       "      <td>795</td>\n",
       "      <td>800</td>\n",
       "      <td>790</td>\n",
       "    </tr>\n",
       "    <tr>\n",
       "      <th>1</th>\n",
       "      <td>1</td>\n",
       "      <td>605</td>\n",
       "      <td>705</td>\n",
       "      <td>600</td>\n",
       "    </tr>\n",
       "    <tr>\n",
       "      <th>2</th>\n",
       "      <td>1</td>\n",
       "      <td>700</td>\n",
       "      <td>610</td>\n",
       "      <td>695</td>\n",
       "    </tr>\n",
       "    <tr>\n",
       "      <th>3</th>\n",
       "      <td>1</td>\n",
       "      <td>752</td>\n",
       "      <td>757</td>\n",
       "      <td>752</td>\n",
       "    </tr>\n",
       "    <tr>\n",
       "      <th>4</th>\n",
       "      <td>1</td>\n",
       "      <td>648</td>\n",
       "      <td>645</td>\n",
       "      <td>634</td>\n",
       "    </tr>\n",
       "  </tbody>\n",
       "</table>\n",
       "</div>"
      ],
      "text/plain": [
       "   Placebo/Marijuana  None  Light  Moderate\n",
       "0                  1   795    800       790\n",
       "1                  1   605    705       600\n",
       "2                  1   700    610       695\n",
       "3                  1   752    757       752\n",
       "4                  1   648    645       634"
      ]
     },
     "execution_count": 46,
     "metadata": {},
     "output_type": "execute_result"
    }
   ],
   "source": [
    "placebo = data[data['Placebo/Marijuana']==1]\n",
    "placebo.head()\n"
   ]
  },
  {
   "cell_type": "code",
   "execution_count": 47,
   "metadata": {
    "id": "pO2UbvirKtOV"
   },
   "outputs": [
    {
     "data": {
      "text/html": [
       "<div>\n",
       "<style scoped>\n",
       "    .dataframe tbody tr th:only-of-type {\n",
       "        vertical-align: middle;\n",
       "    }\n",
       "\n",
       "    .dataframe tbody tr th {\n",
       "        vertical-align: top;\n",
       "    }\n",
       "\n",
       "    .dataframe thead th {\n",
       "        text-align: right;\n",
       "    }\n",
       "</style>\n",
       "<table border=\"1\" class=\"dataframe\">\n",
       "  <thead>\n",
       "    <tr style=\"text-align: right;\">\n",
       "      <th></th>\n",
       "      <th>Placebo/Marijuana</th>\n",
       "      <th>None</th>\n",
       "      <th>Light</th>\n",
       "      <th>Moderate</th>\n",
       "    </tr>\n",
       "  </thead>\n",
       "  <tbody>\n",
       "    <tr>\n",
       "      <th>6</th>\n",
       "      <td>2</td>\n",
       "      <td>965</td>\n",
       "      <td>843</td>\n",
       "      <td>983</td>\n",
       "    </tr>\n",
       "    <tr>\n",
       "      <th>7</th>\n",
       "      <td>2</td>\n",
       "      <td>878</td>\n",
       "      <td>765</td>\n",
       "      <td>744</td>\n",
       "    </tr>\n",
       "    <tr>\n",
       "      <th>8</th>\n",
       "      <td>2</td>\n",
       "      <td>865</td>\n",
       "      <td>713</td>\n",
       "      <td>735</td>\n",
       "    </tr>\n",
       "    <tr>\n",
       "      <th>9</th>\n",
       "      <td>2</td>\n",
       "      <td>916</td>\n",
       "      <td>776</td>\n",
       "      <td>782</td>\n",
       "    </tr>\n",
       "    <tr>\n",
       "      <th>10</th>\n",
       "      <td>2</td>\n",
       "      <td>811</td>\n",
       "      <td>810</td>\n",
       "      <td>815</td>\n",
       "    </tr>\n",
       "  </tbody>\n",
       "</table>\n",
       "</div>"
      ],
      "text/plain": [
       "    Placebo/Marijuana  None  Light  Moderate\n",
       "6                   2   965    843       983\n",
       "7                   2   878    765       744\n",
       "8                   2   865    713       735\n",
       "9                   2   916    776       782\n",
       "10                  2   811    810       815"
      ]
     },
     "execution_count": 47,
     "metadata": {},
     "output_type": "execute_result"
    }
   ],
   "source": [
    "weed = data[data['Placebo/Marijuana']==2]\n",
    "weed.head()\n"
   ]
  },
  {
   "cell_type": "markdown",
   "metadata": {
    "id": "uZgM56rhKtOV"
   },
   "source": [
    "  Let's put the sample into a more appropriate representation: one object = = one person "
   ]
  },
  {
   "cell_type": "code",
   "execution_count": 48,
   "metadata": {
    "id": "AAU1PmDyKtOV"
   },
   "outputs": [
    {
     "data": {
      "text/html": [
       "<div>\n",
       "<style scoped>\n",
       "    .dataframe tbody tr th:only-of-type {\n",
       "        vertical-align: middle;\n",
       "    }\n",
       "\n",
       "    .dataframe tbody tr th {\n",
       "        vertical-align: top;\n",
       "    }\n",
       "\n",
       "    .dataframe thead th {\n",
       "        text-align: right;\n",
       "    }\n",
       "</style>\n",
       "<table border=\"1\" class=\"dataframe\">\n",
       "  <thead>\n",
       "    <tr style=\"text-align: right;\">\n",
       "      <th></th>\n",
       "      <th>placebo</th>\n",
       "      <th>time</th>\n",
       "      <th>type</th>\n",
       "    </tr>\n",
       "  </thead>\n",
       "  <tbody>\n",
       "    <tr>\n",
       "      <th>0</th>\n",
       "      <td>True</td>\n",
       "      <td>795</td>\n",
       "      <td>none</td>\n",
       "    </tr>\n",
       "    <tr>\n",
       "      <th>1</th>\n",
       "      <td>True</td>\n",
       "      <td>800</td>\n",
       "      <td>light</td>\n",
       "    </tr>\n",
       "    <tr>\n",
       "      <th>2</th>\n",
       "      <td>True</td>\n",
       "      <td>790</td>\n",
       "      <td>moderate</td>\n",
       "    </tr>\n",
       "    <tr>\n",
       "      <th>3</th>\n",
       "      <td>True</td>\n",
       "      <td>605</td>\n",
       "      <td>none</td>\n",
       "    </tr>\n",
       "    <tr>\n",
       "      <th>4</th>\n",
       "      <td>True</td>\n",
       "      <td>705</td>\n",
       "      <td>light</td>\n",
       "    </tr>\n",
       "  </tbody>\n",
       "</table>\n",
       "</div>"
      ],
      "text/plain": [
       "   placebo  time      type\n",
       "0     True   795      none\n",
       "1     True   800     light\n",
       "2     True   790  moderate\n",
       "3     True   605      none\n",
       "4     True   705     light"
      ]
     },
     "execution_count": 48,
     "metadata": {},
     "output_type": "execute_result"
    }
   ],
   "source": [
    "new_data = []\n",
    "for i in data.values:\n",
    "    new_data.append({'placebo': i[0]==1, 'time': i[1], 'type':'none'})\n",
    "    new_data.append({'placebo': i[0]==1, 'time': i[2], 'type':'light'})\n",
    "    new_data.append({'placebo': i[0]==1, 'time': i[3], 'type':'moderate'})\n",
    "new_data = pd.DataFrame(new_data)\n",
    "new_data.head()\n"
   ]
  },
  {
   "cell_type": "code",
   "execution_count": 49,
   "metadata": {
    "id": "--E4_NjJKtOV"
   },
   "outputs": [
    {
     "data": {
      "text/plain": [
       "36"
      ]
     },
     "execution_count": 49,
     "metadata": {},
     "output_type": "execute_result"
    }
   ],
   "source": [
    "len(new_data)\n"
   ]
  },
  {
   "cell_type": "markdown",
   "metadata": {
    "id": "FwKtp2ReKtOV"
   },
   "source": [
    "###   Let's see the timing of the reaction. "
   ]
  },
  {
   "cell_type": "code",
   "execution_count": 50,
   "metadata": {
    "id": "1Ng1WRZVKtOW"
   },
   "outputs": [
    {
     "data": {
      "image/png": "[encoded data removed]",
      "text/plain": [
       "<Figure size 640x480 with 1 Axes>"
      ]
     },
     "metadata": {},
     "output_type": "display_data"
    }
   ],
   "source": [
    "sns.boxplot(data=new_data[new_data['placebo']==True], x='time', y='type' )\n",
    "_ = plt.title('Placebo')\n",
    "plt.show()\n"
   ]
  },
  {
   "cell_type": "code",
   "execution_count": 51,
   "metadata": {
    "id": "epWhCfKRKtOW"
   },
   "outputs": [
    {
     "data": {
      "image/png": "[encoded data removed]",
      "text/plain": [
       "<Figure size 640x480 with 1 Axes>"
      ]
     },
     "metadata": {},
     "output_type": "display_data"
    }
   ],
   "source": [
    "sns.boxplot(data=new_data[new_data['placebo']==False], x='time', y='type' )\n",
    "_ = plt.title('Weed')\n",
    "plt.show()\n"
   ]
  },
  {
   "cell_type": "markdown",
   "metadata": {
    "id": "_r4mH9nVKtOW"
   },
   "source": [
    "###   Dispersive analysis "
   ]
  },
  {
   "cell_type": "markdown",
   "metadata": {
    "id": "76SOhZORKtOX"
   },
   "source": [
    "###  # Two-factor analysis (plachebo + smoker type) "
   ]
  },
  {
   "cell_type": "code",
   "execution_count": 52,
   "metadata": {
    "id": "nt6B4HQoKtOX"
   },
   "outputs": [],
   "source": [
    "lm = ols('time ~ C(type) + C(placebo) + C(placebo):C(type)',  data=new_data).fit()\n"
   ]
  },
  {
   "cell_type": "markdown",
   "metadata": {
    "id": "P8c0pAXaKtOX"
   },
   "source": [
    "  ###  What happened? \n",
    "  \n",
    "$$X_{ijk} = \\mu + \\alpha_i + \\beta_j + \\gamma_{ij} + \\varepsilon_{ijk},$$\n",
    "\n",
    "$$i = 1, ..., K_1,\\ j = 1, ..., K_2,\\ k = 1, ..., n.$$\n",
    "\n",
    "- $\\mu is the total average value of the sign, \n",
    "\n",
    "- $\\alpha_i$ -- impact of $i dollar factor f_1, \n",
    "\n",
    "- $\\beta_j4 is the impact of $j's value of $f_2, \n",
    "\n",
    "- $\\gamma_{ij}$ is the additional effect of a combination of $i levels and $j factors of $f_1 and $f_2 \n",
    "\n",
    "- $\\varepsilon_{ijk}$ -- random independent equally distributed errors \n",
    "\n",
    "  - ``ols''' is the method of least squares for regression task \n",
    "  - Inside is the formula from ``patsy'' ([see patsy](https://patsy.readthedocs.io/en/latest/formulas.html#formulas)) \n",
    "  \n",
    "  A short tour of the formula ``patsy'''. \n",
    "  \n",
    "  - The formula is divided into: \n",
    "  \n",
    "  left: ``time' &apos; -- target topic \n",
    "  \n",
    "  - Right: ``C(type) + C(placebo) + C(placebo): C(type) ` &apos; -- an expression consisting of the factors whose effect on the target point we are investigating and some operations \n",
    "  \n",
    "  - `~' -- split left and right \n",
    "  \n",
    "  - `+' -- take only the signs into account, not considering their internal interactions. \n",
    "  \n",
    "  - `:' -- take into account only the internal interactions between the signs ($A\\cap B$) \n",
    "  \n",
    "  - `*' -- take into account both the signs themselves and their internal interactions (A $\\cup B) \n",
    "  \n",
    "  - `C(...) &apos; is a categorical sign "
   ]
  },
  {
   "cell_type": "markdown",
   "metadata": {
    "id": "G8tZtfQ1KtOY"
   },
   "source": [
    "  Different information on the model obtained can be seen "
   ]
  },
  {
   "cell_type": "code",
   "execution_count": 53,
   "metadata": {
    "id": "vEpBzbmkKtOY"
   },
   "outputs": [
    {
     "data": {
      "text/html": [
       "<table class=\"simpletable\">\n",
       "<caption>OLS Regression Results</caption>\n",
       "<tr>\n",
       "  <th>Dep. Variable:</th>          <td>time</td>       <th>  R-squared:         </th> <td>   0.461</td>\n",
       "</tr>\n",
       "<tr>\n",
       "  <th>Model:</th>                   <td>OLS</td>       <th>  Adj. R-squared:    </th> <td>   0.371</td>\n",
       "</tr>\n",
       "<tr>\n",
       "  <th>Method:</th>             <td>Least Squares</td>  <th>  F-statistic:       </th> <td>   5.130</td>\n",
       "</tr>\n",
       "<tr>\n",
       "  <th>Date:</th>             <td>Wed, 01 Feb 2023</td> <th>  Prob (F-statistic):</th>  <td>0.00162</td>\n",
       "</tr>\n",
       "<tr>\n",
       "  <th>Time:</th>                 <td>20:24:51</td>     <th>  Log-Likelihood:    </th> <td> -203.97</td>\n",
       "</tr>\n",
       "<tr>\n",
       "  <th>No. Observations:</th>      <td>    36</td>      <th>  AIC:               </th> <td>   419.9</td>\n",
       "</tr>\n",
       "<tr>\n",
       "  <th>Df Residuals:</th>          <td>    30</td>      <th>  BIC:               </th> <td>   429.4</td>\n",
       "</tr>\n",
       "<tr>\n",
       "  <th>Df Model:</th>              <td>     5</td>      <th>                     </th>     <td> </td>   \n",
       "</tr>\n",
       "<tr>\n",
       "  <th>Covariance Type:</th>      <td>nonrobust</td>    <th>                     </th>     <td> </td>   \n",
       "</tr>\n",
       "</table>\n",
       "<table class=\"simpletable\">\n",
       "<tr>\n",
       "                     <td></td>                       <th>coef</th>     <th>std err</th>      <th>t</th>      <th>P>|t|</th>  <th>[0.025</th>    <th>0.975]</th>  \n",
       "</tr>\n",
       "<tr>\n",
       "  <th>Intercept</th>                              <td>  762.0000</td> <td>   31.251</td> <td>   24.383</td> <td> 0.000</td> <td>  698.176</td> <td>  825.824</td>\n",
       "</tr>\n",
       "<tr>\n",
       "  <th>C(type)[T.moderate]</th>                    <td>   20.3333</td> <td>   44.196</td> <td>    0.460</td> <td> 0.649</td> <td>  -69.927</td> <td>  110.594</td>\n",
       "</tr>\n",
       "<tr>\n",
       "  <th>C(type)[T.none]</th>                        <td>  117.1667</td> <td>   44.196</td> <td>    2.651</td> <td> 0.013</td> <td>   26.906</td> <td>  207.427</td>\n",
       "</tr>\n",
       "<tr>\n",
       "  <th>C(placebo)[T.True]</th>                     <td>  -57.1667</td> <td>   44.196</td> <td>   -1.293</td> <td> 0.206</td> <td> -147.427</td> <td>   33.094</td>\n",
       "</tr>\n",
       "<tr>\n",
       "  <th>C(placebo)[T.True]:C(type)[T.moderate]</th> <td>  -29.1667</td> <td>   62.503</td> <td>   -0.467</td> <td> 0.644</td> <td> -156.814</td> <td>   98.481</td>\n",
       "</tr>\n",
       "<tr>\n",
       "  <th>C(placebo)[T.True]:C(type)[T.none]</th>     <td> -120.3333</td> <td>   62.503</td> <td>   -1.925</td> <td> 0.064</td> <td> -247.981</td> <td>    7.314</td>\n",
       "</tr>\n",
       "</table>\n",
       "<table class=\"simpletable\">\n",
       "<tr>\n",
       "  <th>Omnibus:</th>       <td> 1.835</td> <th>  Durbin-Watson:     </th> <td>   1.153</td>\n",
       "</tr>\n",
       "<tr>\n",
       "  <th>Prob(Omnibus):</th> <td> 0.400</td> <th>  Jarque-Bera (JB):  </th> <td>   0.941</td>\n",
       "</tr>\n",
       "<tr>\n",
       "  <th>Skew:</th>          <td> 0.356</td> <th>  Prob(JB):          </th> <td>   0.625</td>\n",
       "</tr>\n",
       "<tr>\n",
       "  <th>Kurtosis:</th>      <td> 3.346</td> <th>  Cond. No.          </th> <td>    9.77</td>\n",
       "</tr>\n",
       "</table><br/><br/>Notes:<br/>[1] Standard Errors assume that the covariance matrix of the errors is correctly specified."
      ],
      "text/plain": [
       "<class 'statsmodels.iolib.summary.Summary'>\n",
       "\"\"\"\n",
       "                            OLS Regression Results                            \n",
       "==============================================================================\n",
       "Dep. Variable:                   time   R-squared:                       0.461\n",
       "Model:                            OLS   Adj. R-squared:                  0.371\n",
       "Method:                 Least Squares   F-statistic:                     5.130\n",
       "Date:                Wed, 01 Feb 2023   Prob (F-statistic):            0.00162\n",
       "Time:                        20:24:51   Log-Likelihood:                -203.97\n",
       "No. Observations:                  36   AIC:                             419.9\n",
       "Df Residuals:                      30   BIC:                             429.4\n",
       "Df Model:                           5                                         \n",
       "Covariance Type:            nonrobust                                         \n",
       "==========================================================================================================\n",
       "                                             coef    std err          t      P>|t|      [0.025      0.975]\n",
       "----------------------------------------------------------------------------------------------------------\n",
       "Intercept                                762.0000     31.251     24.383      0.000     698.176     825.824\n",
       "C(type)[T.moderate]                       20.3333     44.196      0.460      0.649     -69.927     110.594\n",
       "C(type)[T.none]                          117.1667     44.196      2.651      0.013      26.906     207.427\n",
       "C(placebo)[T.True]                       -57.1667     44.196     -1.293      0.206    -147.427      33.094\n",
       "C(placebo)[T.True]:C(type)[T.moderate]   -29.1667     62.503     -0.467      0.644    -156.814      98.481\n",
       "C(placebo)[T.True]:C(type)[T.none]      -120.3333     62.503     -1.925      0.064    -247.981       7.314\n",
       "==============================================================================\n",
       "Omnibus:                        1.835   Durbin-Watson:                   1.153\n",
       "Prob(Omnibus):                  0.400   Jarque-Bera (JB):                0.941\n",
       "Skew:                           0.356   Prob(JB):                        0.625\n",
       "Kurtosis:                       3.346   Cond. No.                         9.77\n",
       "==============================================================================\n",
       "\n",
       "Notes:\n",
       "[1] Standard Errors assume that the covariance matrix of the errors is correctly specified.\n",
       "\"\"\""
      ]
     },
     "execution_count": 53,
     "metadata": {},
     "output_type": "execute_result"
    }
   ],
   "source": [
    "lm.summary()\n"
   ]
  },
  {
   "cell_type": "code",
   "execution_count": 54,
   "metadata": {
    "id": "bhCWr8wYKtOZ"
   },
   "outputs": [
    {
     "data": {
      "text/html": [
       "<div>\n",
       "<style scoped>\n",
       "    .dataframe tbody tr th:only-of-type {\n",
       "        vertical-align: middle;\n",
       "    }\n",
       "\n",
       "    .dataframe tbody tr th {\n",
       "        vertical-align: top;\n",
       "    }\n",
       "\n",
       "    .dataframe thead th {\n",
       "        text-align: right;\n",
       "    }\n",
       "</style>\n",
       "<table border=\"1\" class=\"dataframe\">\n",
       "  <thead>\n",
       "    <tr style=\"text-align: right;\">\n",
       "      <th></th>\n",
       "      <th>df</th>\n",
       "      <th>sum_sq</th>\n",
       "      <th>mean_sq</th>\n",
       "      <th>F</th>\n",
       "      <th>PR(&gt;F)</th>\n",
       "    </tr>\n",
       "  </thead>\n",
       "  <tbody>\n",
       "    <tr>\n",
       "      <th>C(type)</th>\n",
       "      <td>2.0</td>\n",
       "      <td>23634.500000</td>\n",
       "      <td>11817.250000</td>\n",
       "      <td>2.016638</td>\n",
       "      <td>0.150752</td>\n",
       "    </tr>\n",
       "    <tr>\n",
       "      <th>C(placebo)</th>\n",
       "      <td>1.0</td>\n",
       "      <td>103041.000000</td>\n",
       "      <td>103041.000000</td>\n",
       "      <td>17.584155</td>\n",
       "      <td>0.000224</td>\n",
       "    </tr>\n",
       "    <tr>\n",
       "      <th>C(placebo):C(type)</th>\n",
       "      <td>2.0</td>\n",
       "      <td>23642.166667</td>\n",
       "      <td>11821.083333</td>\n",
       "      <td>2.017292</td>\n",
       "      <td>0.150665</td>\n",
       "    </tr>\n",
       "    <tr>\n",
       "      <th>Residual</th>\n",
       "      <td>30.0</td>\n",
       "      <td>175796.333333</td>\n",
       "      <td>5859.877778</td>\n",
       "      <td>NaN</td>\n",
       "      <td>NaN</td>\n",
       "    </tr>\n",
       "  </tbody>\n",
       "</table>\n",
       "</div>"
      ],
      "text/plain": [
       "                      df         sum_sq        mean_sq          F    PR(>F)\n",
       "C(type)              2.0   23634.500000   11817.250000   2.016638  0.150752\n",
       "C(placebo)           1.0  103041.000000  103041.000000  17.584155  0.000224\n",
       "C(placebo):C(type)   2.0   23642.166667   11821.083333   2.017292  0.150665\n",
       "Residual            30.0  175796.333333    5859.877778        NaN       NaN"
      ]
     },
     "execution_count": 54,
     "metadata": {},
     "output_type": "execute_result"
    }
   ],
   "source": [
    "sm.stats.anova_lm(lm)\n"
   ]
  },
  {
   "cell_type": "code",
   "execution_count": 55,
   "metadata": {
    "id": "oGr9IQCnKtOZ"
   },
   "outputs": [],
   "source": [
    "lm = ols('time ~ C(placebo)', data=new_data).fit()\n"
   ]
  },
  {
   "cell_type": "code",
   "execution_count": 56,
   "metadata": {
    "id": "mEv2mBWLKtOZ"
   },
   "outputs": [
    {
     "data": {
      "text/html": [
       "<div>\n",
       "<style scoped>\n",
       "    .dataframe tbody tr th:only-of-type {\n",
       "        vertical-align: middle;\n",
       "    }\n",
       "\n",
       "    .dataframe tbody tr th {\n",
       "        vertical-align: top;\n",
       "    }\n",
       "\n",
       "    .dataframe thead th {\n",
       "        text-align: right;\n",
       "    }\n",
       "</style>\n",
       "<table border=\"1\" class=\"dataframe\">\n",
       "  <thead>\n",
       "    <tr style=\"text-align: right;\">\n",
       "      <th></th>\n",
       "      <th>df</th>\n",
       "      <th>sum_sq</th>\n",
       "      <th>mean_sq</th>\n",
       "      <th>F</th>\n",
       "      <th>PR(&gt;F)</th>\n",
       "    </tr>\n",
       "  </thead>\n",
       "  <tbody>\n",
       "    <tr>\n",
       "      <th>C(placebo)</th>\n",
       "      <td>1.0</td>\n",
       "      <td>103041.0</td>\n",
       "      <td>103041.000000</td>\n",
       "      <td>15.705146</td>\n",
       "      <td>0.00036</td>\n",
       "    </tr>\n",
       "    <tr>\n",
       "      <th>Residual</th>\n",
       "      <td>34.0</td>\n",
       "      <td>223073.0</td>\n",
       "      <td>6560.970588</td>\n",
       "      <td>NaN</td>\n",
       "      <td>NaN</td>\n",
       "    </tr>\n",
       "  </tbody>\n",
       "</table>\n",
       "</div>"
      ],
      "text/plain": [
       "              df    sum_sq        mean_sq          F   PR(>F)\n",
       "C(placebo)   1.0  103041.0  103041.000000  15.705146  0.00036\n",
       "Residual    34.0  223073.0    6560.970588        NaN      NaN"
      ]
     },
     "execution_count": 56,
     "metadata": {},
     "output_type": "execute_result"
    }
   ],
   "source": [
    "sm.stats.anova_lm(lm)\n"
   ]
  },
  {
   "cell_type": "markdown",
   "metadata": {
    "id": "DHEmMFtVKtOZ"
   },
   "source": [
    "###  # Student's criterion for equality of matrimony "
   ]
  },
  {
   "cell_type": "markdown",
   "metadata": {
    "id": "nd2NgiGUKtOZ"
   },
   "source": [
    "  In the assumption of equality of dispersions "
   ]
  },
  {
   "cell_type": "code",
   "execution_count": 57,
   "metadata": {
    "id": "KxoQXs4dKtOa"
   },
   "outputs": [
    {
     "data": {
      "text/plain": [
       "(-3.9629718456124134, 0.00036003525353863977, 34.0)"
      ]
     },
     "execution_count": 57,
     "metadata": {},
     "output_type": "execute_result"
    }
   ],
   "source": [
    "ttest_ind(new_data[new_data['placebo']==True]['time'], new_data[new_data['placebo']==False]['time'], usevar='pooled')\n"
   ]
  },
  {
   "cell_type": "markdown",
   "metadata": {
    "id": "6OJ2hQc-KtOa"
   },
   "source": [
    "  No guess. "
   ]
  },
  {
   "cell_type": "code",
   "execution_count": 58,
   "metadata": {
    "id": "ZDITRYd7KtOa"
   },
   "outputs": [
    {
     "data": {
      "text/plain": [
       "(-3.9629718456124134, 0.0004149339054483141, 30.42418334548216)"
      ]
     },
     "execution_count": 58,
     "metadata": {},
     "output_type": "execute_result"
    }
   ],
   "source": [
    "ttest_ind(new_data[new_data['placebo']==True]['time'], new_data[new_data['placebo']==False]['time'], usevar='unequal')\n"
   ]
  },
  {
   "cell_type": "markdown",
   "metadata": {
    "id": "Utyn-R6nKtOa"
   },
   "source": [
    "  Left-hand alternative "
   ]
  },
  {
   "cell_type": "code",
   "execution_count": 59,
   "metadata": {
    "id": "gdEnaWzeKtOa"
   },
   "outputs": [
    {
     "data": {
      "text/plain": [
       "(-3.9629718456124134, 0.00018001762676931988, 34.0)"
      ]
     },
     "execution_count": 59,
     "metadata": {},
     "output_type": "execute_result"
    }
   ],
   "source": [
    "ttest_ind(new_data[new_data['placebo']==True]['time'], new_data[new_data['placebo']==False]['time'], alternative='smaller', usevar='pooled')\n"
   ]
  },
  {
   "cell_type": "markdown",
   "metadata": {
    "id": "TAX0ZVO-KtOb"
   },
   "source": [
    "  *## Outcome: \n",
    "  - The fact that a person has taken marijuana before does not affect the speed of his reaction \n",
    "  - When the marijuana is smoked, the reaction of the human being is much lost. "
   ]
  }
 ],
 "metadata": {
  "colab": {
   "name": "main.ipynb",
   "provenance": []
  },
  "kernelspec": {
   "display_name": "Python 3 (ipykernel)",
   "language": "python",
   "name": "python3"
  },
  "language_info": {
   "codemirror_mode": {
    "name": "ipython",
    "version": 3
   },
   "file_extension": ".py",
   "mimetype": "text/x-python",
   "name": "python",
   "nbconvert_exporter": "python",
   "pygments_lexer": "ipython3",
   "version": "3.10.6"
  }
 },
 "nbformat": 4,
 "nbformat_minor": 1
}
