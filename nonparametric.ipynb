{
 "cells": [
  {
   "cell_type": "markdown",
   "metadata": {
    "id": "d8KRSqI38kBa"
   },
   "source": [
    "#   Verification of non-parametric hypotheses "
   ]
  },
  {
   "cell_type": "code",
   "execution_count": 1,
   "metadata": {
    "id": "gu6J4ZISBdJj"
   },
   "outputs": [],
   "source": [
    "import warnings\n",
    "warnings.filterwarnings(\"ignore\")\n",
    "\n",
    "try:\n",
    "    import google.colab\n",
    "    IN_COLAB = True\n",
    "except:\n",
    "    IN_COLAB = False\n",
    "\n",
    "if IN_COLAB:\n",
    "    !wget -q -O requirements.txt https://raw.githubusercontent.com/Intelligent-Systems-Phystech/psad/master/seminars/sem3/requirements.txt\n",
    "    !pip install -q -r requirements.txt\n"
   ]
  },
  {
   "cell_type": "markdown",
   "metadata": {
    "id": "rXtd_r2s8kBf"
   },
   "source": [
    "##   Libraries"
   ]
  },
  {
   "cell_type": "code",
   "execution_count": 5,
   "metadata": {
    "id": "S7_gBw9a8kBg"
   },
   "outputs": [],
   "source": [
    "import numpy as np\n",
    "import pandas as pd\n",
    "import matplotlib.pylab as plt\n",
    "\n",
    "import scipy.stats as st\n",
    "from statsmodels.distributions.empirical_distribution import ECDF\n",
    "from statsmodels.stats.descriptivestats import sign_test\n",
    "\n",
    "import seaborn as sns\n",
    "from permutation_test import permutationtest\n",
    "\n",
    "#  Permute criterion \n",
    "from permute.core import one_sample, two_sample\n",
    "\n",
    "#  Sign criteria \n",
    "from statsmodels.stats.descriptivestats import sign_test\n",
    "\n",
    "#  for conversions \n",
    "import itertools\n",
    "\n",
    "#  Bootstrap \n",
    "from arch.bootstrap import IIDBootstrap\n"
   ]
  },
  {
   "cell_type": "markdown",
   "metadata": {
    "id": "b1rEg5CJ8kBi"
   },
   "source": [
    "##   Mouses with mirrors "
   ]
  },
  {
   "cell_type": "markdown",
   "metadata": {
    "id": "oNf9SADV8kBj"
   },
   "source": [
    "###  # Data "
   ]
  },
  {
   "cell_type": "code",
   "execution_count": 6,
   "metadata": {
    "id": "wmAe-VO48kBj"
   },
   "outputs": [
    {
     "data": {
      "text/html": [
       "<div>\n",
       "<style scoped>\n",
       "    .dataframe tbody tr th:only-of-type {\n",
       "        vertical-align: middle;\n",
       "    }\n",
       "\n",
       "    .dataframe tbody tr th {\n",
       "        vertical-align: top;\n",
       "    }\n",
       "\n",
       "    .dataframe thead th {\n",
       "        text-align: right;\n",
       "    }\n",
       "</style>\n",
       "<table border=\"1\" class=\"dataframe\">\n",
       "  <thead>\n",
       "    <tr style=\"text-align: right;\">\n",
       "      <th></th>\n",
       "      <th>0</th>\n",
       "    </tr>\n",
       "  </thead>\n",
       "  <tbody>\n",
       "    <tr>\n",
       "      <th>0</th>\n",
       "      <td>0.348471</td>\n",
       "    </tr>\n",
       "    <tr>\n",
       "      <th>1</th>\n",
       "      <td>0.640620</td>\n",
       "    </tr>\n",
       "    <tr>\n",
       "      <th>2</th>\n",
       "      <td>0.549818</td>\n",
       "    </tr>\n",
       "    <tr>\n",
       "      <th>3</th>\n",
       "      <td>0.537454</td>\n",
       "    </tr>\n",
       "    <tr>\n",
       "      <th>4</th>\n",
       "      <td>0.400444</td>\n",
       "    </tr>\n",
       "  </tbody>\n",
       "</table>\n",
       "</div>"
      ],
      "text/plain": [
       "          0\n",
       "0  0.348471\n",
       "1  0.640620\n",
       "2  0.549818\n",
       "3  0.537454\n",
       "4  0.400444"
      ]
     },
     "execution_count": 6,
     "metadata": {},
     "output_type": "execute_result"
    }
   ],
   "source": [
    "data_pd = pd.read_csv('https://raw.githubusercontent.com/Intelligent-Systems-Phystech/psad/master/seminars/sem3/data/mirror_mice.txt', sep='\\t', header=None)\n",
    "data = data_pd.values.reshape(-1)\n",
    "\n",
    "data_pd.head()\n"
   ]
  },
  {
   "cell_type": "markdown",
   "metadata": {
    "id": "BuqNIQl_8kBk"
   },
   "source": [
    "###  # The distribution hytogram "
   ]
  },
  {
   "cell_type": "code",
   "execution_count": 7,
   "metadata": {
    "id": "pUX0TeUW8kBl"
   },
   "outputs": [
    {
     "data": {
      "image/png": "[encoded data removed]",
      "text/plain": [
       "<Figure size 640x480 with 1 Axes>"
      ]
     },
     "metadata": {},
     "output_type": "display_data"
    }
   ],
   "source": [
    "plt.hist(data)\n",
    "plt.show()\n"
   ]
  },
  {
   "cell_type": "markdown",
   "metadata": {
    "id": "GEXEs4Rk8kBm"
   },
   "source": [
    "###  # Binomial test: ```st.binom_test'' "
   ]
  },
  {
   "cell_type": "code",
   "execution_count": 8,
   "metadata": {
    "id": "bDOkbpRU8kBm"
   },
   "outputs": [
    {
     "data": {
      "text/plain": [
       "0.021270751953125"
      ]
     },
     "execution_count": 8,
     "metadata": {},
     "output_type": "execute_result"
    }
   ],
   "source": [
    "st.binom_test(np.sum(data>0.5), data.shape[0])\n"
   ]
  },
  {
   "cell_type": "markdown",
   "metadata": {
    "id": "tIZYMinm8kBm"
   },
   "source": [
    "###  # Sign criterion "
   ]
  },
  {
   "cell_type": "code",
   "execution_count": 9,
   "metadata": {
    "id": "oKn4ms6c8kBn"
   },
   "outputs": [
    {
     "data": {
      "text/plain": [
       "(-5.0, 0.021270751953125)"
      ]
     },
     "execution_count": 9,
     "metadata": {},
     "output_type": "execute_result"
    }
   ],
   "source": [
    "sign_test(data, mu0=0.5)\n"
   ]
  },
  {
   "cell_type": "markdown",
   "metadata": {
    "id": "MIqk7u2-8kBo"
   },
   "source": [
    "  #### The perumtation criterion: \n",
    "$H_0: \\mathsf{E}X = m_0$\n",
    "\n",
    "$H_1: \\mathsf{E}X <\\not=> m_0$\n",
    "\n",
    "$T = \\sum X_i-m_0$"
   ]
  },
  {
   "cell_type": "code",
   "execution_count": 10,
   "metadata": {
    "id": "ufhmh9_n8kBo"
   },
   "outputs": [
    {
     "data": {
      "text/plain": [
       "-0.39537769999999994"
      ]
     },
     "execution_count": 10,
     "metadata": {},
     "output_type": "execute_result"
    }
   ],
   "source": [
    "t = (data - 0.5)\n",
    "T = np.sum(t)\n",
    "T\n"
   ]
  },
  {
   "cell_type": "code",
   "execution_count": 11,
   "metadata": {
    "id": "aaDEzwMS8kBp"
   },
   "outputs": [
    {
     "data": {
      "text/plain": [
       "[(0, 1),\n",
       " (0, 2),\n",
       " (0, 3),\n",
       " (0, 4),\n",
       " (0, 5),\n",
       " (0, 6),\n",
       " (0, 7),\n",
       " (0, 8),\n",
       " (0, 9),\n",
       " (0, 10),\n",
       " (0, 11),\n",
       " (0, 12),\n",
       " (0, 13),\n",
       " (0, 14),\n",
       " (0, 15),\n",
       " (1, 2),\n",
       " (1, 3),\n",
       " (1, 4),\n",
       " (1, 5),\n",
       " (1, 6),\n",
       " (1, 7),\n",
       " (1, 8),\n",
       " (1, 9),\n",
       " (1, 10),\n",
       " (1, 11),\n",
       " (1, 12),\n",
       " (1, 13),\n",
       " (1, 14),\n",
       " (1, 15),\n",
       " (2, 3),\n",
       " (2, 4),\n",
       " (2, 5),\n",
       " (2, 6),\n",
       " (2, 7),\n",
       " (2, 8),\n",
       " (2, 9),\n",
       " (2, 10),\n",
       " (2, 11),\n",
       " (2, 12),\n",
       " (2, 13),\n",
       " (2, 14),\n",
       " (2, 15),\n",
       " (3, 4),\n",
       " (3, 5),\n",
       " (3, 6),\n",
       " (3, 7),\n",
       " (3, 8),\n",
       " (3, 9),\n",
       " (3, 10),\n",
       " (3, 11),\n",
       " (3, 12),\n",
       " (3, 13),\n",
       " (3, 14),\n",
       " (3, 15),\n",
       " (4, 5),\n",
       " (4, 6),\n",
       " (4, 7),\n",
       " (4, 8),\n",
       " (4, 9),\n",
       " (4, 10),\n",
       " (4, 11),\n",
       " (4, 12),\n",
       " (4, 13),\n",
       " (4, 14),\n",
       " (4, 15),\n",
       " (5, 6),\n",
       " (5, 7),\n",
       " (5, 8),\n",
       " (5, 9),\n",
       " (5, 10),\n",
       " (5, 11),\n",
       " (5, 12),\n",
       " (5, 13),\n",
       " (5, 14),\n",
       " (5, 15),\n",
       " (6, 7),\n",
       " (6, 8),\n",
       " (6, 9),\n",
       " (6, 10),\n",
       " (6, 11),\n",
       " (6, 12),\n",
       " (6, 13),\n",
       " (6, 14),\n",
       " (6, 15),\n",
       " (7, 8),\n",
       " (7, 9),\n",
       " (7, 10),\n",
       " (7, 11),\n",
       " (7, 12),\n",
       " (7, 13),\n",
       " (7, 14),\n",
       " (7, 15),\n",
       " (8, 9),\n",
       " (8, 10),\n",
       " (8, 11),\n",
       " (8, 12),\n",
       " (8, 13),\n",
       " (8, 14),\n",
       " (8, 15),\n",
       " (9, 10),\n",
       " (9, 11),\n",
       " (9, 12),\n",
       " (9, 13),\n",
       " (9, 14),\n",
       " (9, 15),\n",
       " (10, 11),\n",
       " (10, 12),\n",
       " (10, 13),\n",
       " (10, 14),\n",
       " (10, 15),\n",
       " (11, 12),\n",
       " (11, 13),\n",
       " (11, 14),\n",
       " (11, 15),\n",
       " (12, 13),\n",
       " (12, 14),\n",
       " (12, 15),\n",
       " (13, 14),\n",
       " (13, 15),\n",
       " (14, 15)]"
      ]
     },
     "execution_count": 11,
     "metadata": {},
     "output_type": "execute_result"
    }
   ],
   "source": [
    "list(itertools.combinations(range(16), 2))\n"
   ]
  },
  {
   "cell_type": "code",
   "execution_count": 12,
   "metadata": {
    "id": "40iZE26U8kBp"
   },
   "outputs": [
    {
     "data": {
      "text/plain": [
       "[(-1, -1), (-1, 1), (1, -1), (1, 1)]"
      ]
     },
     "execution_count": 12,
     "metadata": {},
     "output_type": "execute_result"
    }
   ],
   "source": [
    "list(itertools.product([-1, 1], repeat=2))\n"
   ]
  },
  {
   "cell_type": "code",
   "execution_count": 13,
   "metadata": {
    "id": "W044OXMJ8kBq",
    "scrolled": true
   },
   "outputs": [
    {
     "data": {
      "text/plain": [
       "0.15777587890625"
      ]
     },
     "execution_count": 13,
     "metadata": {},
     "output_type": "execute_result"
    }
   ],
   "source": [
    "count = 0\n",
    "good = 0\n",
    "for v in itertools.product([-1, 1], repeat=16):\n",
    "    count +=1\n",
    "    stat = np.dot(t, v)\n",
    "    if abs(stat)>=abs(T):\n",
    "        good+=1\n",
    "    \n",
    "        \n",
    "good/count\n"
   ]
  },
  {
   "cell_type": "markdown",
   "metadata": {
    "id": "xVsEThYg8kBq"
   },
   "source": [
    "###  ## Library "
   ]
  },
  {
   "cell_type": "code",
   "execution_count": 14,
   "metadata": {
    "id": "371uATt98kBr"
   },
   "outputs": [
    {
     "data": {
      "text/plain": [
       "(0.15597844021559784, -0.024711106249999996)"
      ]
     },
     "execution_count": 14,
     "metadata": {},
     "output_type": "execute_result"
    }
   ],
   "source": [
    "one_sample(data-0.5, alternative='two-sided')\n"
   ]
  },
  {
   "cell_type": "code",
   "execution_count": 15,
   "metadata": {
    "id": "wLBI_RjC8kBs"
   },
   "outputs": [
    {
     "data": {
      "text/plain": [
       "(0.16085839141608585, -0.024711106249999996)"
      ]
     },
     "execution_count": 15,
     "metadata": {},
     "output_type": "execute_result"
    }
   ],
   "source": [
    "one_sample(data, 0.5*np.ones_like(data), alternative='two-sided')\n"
   ]
  },
  {
   "cell_type": "markdown",
   "metadata": {
    "id": "3xqShP_Z8kBs"
   },
   "source": [
    "###  # Bootstrap "
   ]
  },
  {
   "cell_type": "markdown",
   "metadata": {
    "id": "VYD_BmWY8kBt"
   },
   "source": [
    "###  # Handmade "
   ]
  },
  {
   "cell_type": "code",
   "execution_count": 16,
   "metadata": {
    "id": "AOc0mI_58kBt"
   },
   "outputs": [
    {
     "data": {
      "text/plain": [
       "array([0.44498474, 0.50910533])"
      ]
     },
     "execution_count": 16,
     "metadata": {},
     "output_type": "execute_result"
    }
   ],
   "source": [
    "rs = np.random.RandomState(0)\n",
    "\n",
    "idx = rs.randint(low=0, high=16, size=(1000, 16))\n",
    "results = []\n",
    "for i in idx:\n",
    "    sample = data[i]\n",
    "    results.append(sample.mean())\n",
    "\n",
    "np.percentile(results, [2.5, 97.5])\n"
   ]
  },
  {
   "cell_type": "markdown",
   "metadata": {
    "id": "wOufcVXz8kBu"
   },
   "source": [
    "###  # Library "
   ]
  },
  {
   "cell_type": "code",
   "execution_count": 17,
   "metadata": {
    "id": "01ZG6DlZ8kBu"
   },
   "outputs": [
    {
     "data": {
      "text/plain": [
       "array([[0.465902 ],\n",
       "       [0.5077678]])"
      ]
     },
     "execution_count": 17,
     "metadata": {},
     "output_type": "execute_result"
    }
   ],
   "source": [
    "bs = IIDBootstrap(data)\n",
    "bs.conf_int(np.median, 1000, method='basic')\n"
   ]
  },
  {
   "cell_type": "markdown",
   "metadata": {
    "id": "nCbPQban8kBv"
   },
   "source": [
    "# Anorexia therapy \n",
    "**Everitt N., McMahon M. (2004). Nutrition and the surgical patient. In Consensus in Clinical Nutrition, Cambridge: Cambridge University Press. **"
   ]
  },
  {
   "cell_type": "markdown",
   "metadata": {
    "id": "2MNFJSCH8kBv"
   },
   "source": [
    "  The study assesses the effectiveness of behavioural therapy for anorexia.    For 50 patients, the weight is known before and after the treatment.    Was the therapy effective? "
   ]
  },
  {
   "cell_type": "markdown",
   "metadata": {
    "id": "gCVMMpUK8kBw"
   },
   "source": [
    "###  # Data "
   ]
  },
  {
   "cell_type": "code",
   "execution_count": 18,
   "metadata": {
    "id": "4z9qOhf18kBw"
   },
   "outputs": [
    {
     "data": {
      "text/html": [
       "<div>\n",
       "<style scoped>\n",
       "    .dataframe tbody tr th:only-of-type {\n",
       "        vertical-align: middle;\n",
       "    }\n",
       "\n",
       "    .dataframe tbody tr th {\n",
       "        vertical-align: top;\n",
       "    }\n",
       "\n",
       "    .dataframe thead th {\n",
       "        text-align: right;\n",
       "    }\n",
       "</style>\n",
       "<table border=\"1\" class=\"dataframe\">\n",
       "  <thead>\n",
       "    <tr style=\"text-align: right;\">\n",
       "      <th></th>\n",
       "      <th>Before</th>\n",
       "      <th>After</th>\n",
       "    </tr>\n",
       "  </thead>\n",
       "  <tbody>\n",
       "    <tr>\n",
       "      <th>0</th>\n",
       "      <td>80.5</td>\n",
       "      <td>82.2</td>\n",
       "    </tr>\n",
       "    <tr>\n",
       "      <th>1</th>\n",
       "      <td>84.9</td>\n",
       "      <td>85.6</td>\n",
       "    </tr>\n",
       "    <tr>\n",
       "      <th>2</th>\n",
       "      <td>81.5</td>\n",
       "      <td>81.4</td>\n",
       "    </tr>\n",
       "    <tr>\n",
       "      <th>3</th>\n",
       "      <td>82.6</td>\n",
       "      <td>81.9</td>\n",
       "    </tr>\n",
       "    <tr>\n",
       "      <th>4</th>\n",
       "      <td>79.9</td>\n",
       "      <td>76.4</td>\n",
       "    </tr>\n",
       "  </tbody>\n",
       "</table>\n",
       "</div>"
      ],
      "text/plain": [
       "   Before  After\n",
       "0    80.5   82.2\n",
       "1    84.9   85.6\n",
       "2    81.5   81.4\n",
       "3    82.6   81.9\n",
       "4    79.9   76.4"
      ]
     },
     "execution_count": 18,
     "metadata": {},
     "output_type": "execute_result"
    }
   ],
   "source": [
    "data = pd.read_csv('https://raw.githubusercontent.com/Intelligent-Systems-Phystech/psad/master/seminars/sem3/data/weight.txt', sep='\\t')\n",
    "w = data.values\n",
    "\n",
    "data.head()\n"
   ]
  },
  {
   "cell_type": "markdown",
   "metadata": {
    "id": "ynJ522y-8kBw"
   },
   "source": [
    "###   Data Visualization "
   ]
  },
  {
   "cell_type": "code",
   "execution_count": 19,
   "metadata": {
    "id": "swgm7LCg8kBx"
   },
   "outputs": [
    {
     "data": {
      "image/png": "[encoded data removed]",
      "text/plain": [
       "<Figure size 640x480 with 1 Axes>"
      ]
     },
     "metadata": {},
     "output_type": "display_data"
    }
   ],
   "source": [
    "plt.scatter(w[:,0], w[:,1])\n",
    "plt.xlabel('Before')\n",
    "plt.ylabel('After')\n",
    "\n",
    "plt.show()\n"
   ]
  },
  {
   "cell_type": "markdown",
   "metadata": {
    "id": "BT1DkOwp8kBy"
   },
   "source": [
    "###   Normality test "
   ]
  },
  {
   "cell_type": "markdown",
   "metadata": {
    "id": "l7d8FNC18kB0"
   },
   "source": [
    "#### QQ-plot"
   ]
  },
  {
   "cell_type": "code",
   "execution_count": 20,
   "metadata": {
    "id": "xBhoelu38kB1"
   },
   "outputs": [
    {
     "data": {
      "image/png": "[encoded data removed]",
      "text/plain": [
       "<Figure size 640x480 with 1 Axes>"
      ]
     },
     "metadata": {},
     "output_type": "display_data"
    }
   ],
   "source": [
    "_ = st.probplot(w[:,1]-w[:,0], plot=plt)\n"
   ]
  },
  {
   "cell_type": "markdown",
   "metadata": {
    "id": "NsDfEavx8kB3"
   },
   "source": [
    "###  # Shapiro (``st.chapiro''') "
   ]
  },
  {
   "cell_type": "code",
   "execution_count": 21,
   "metadata": {
    "id": "A4g4q_EY8kB4"
   },
   "outputs": [
    {
     "data": {
      "text/plain": [
       "ShapiroResult(statistic=0.8961783647537231, pvalue=0.007945157587528229)"
      ]
     },
     "execution_count": 21,
     "metadata": {},
     "output_type": "execute_result"
    }
   ],
   "source": [
    "st.shapiro(w[:,1]-w[:,0])\n"
   ]
  },
  {
   "cell_type": "markdown",
   "metadata": {
    "id": "j5dG3l2O8kB5"
   },
   "source": [
    "###  # Sign criterion ( ``sign_test'' &apos; ) "
   ]
  },
  {
   "cell_type": "code",
   "execution_count": 22,
   "metadata": {
    "id": "YqeEQjPy8kB6"
   },
   "outputs": [
    {
     "data": {
      "text/plain": [
       "(3.5, 0.26493089646101)"
      ]
     },
     "execution_count": 22,
     "metadata": {},
     "output_type": "execute_result"
    }
   ],
   "source": [
    "sign_test(w[:,1]-w[:,0])\n"
   ]
  },
  {
   "cell_type": "markdown",
   "metadata": {
    "id": "EHz9swIE8kB6"
   },
   "source": [
    "###  # Wilcoxon (``st.wilcoxon'') "
   ]
  },
  {
   "cell_type": "code",
   "execution_count": 23,
   "metadata": {
    "id": "2J9hKTDs8kB7"
   },
   "outputs": [
    {
     "data": {
      "text/plain": [
       "WilcoxonResult(statistic=131.5, pvalue=0.06551516801118851)"
      ]
     },
     "execution_count": 23,
     "metadata": {},
     "output_type": "execute_result"
    }
   ],
   "source": [
    "st.wilcoxon(w[:,1]-w[:,0])\n"
   ]
  },
  {
   "cell_type": "markdown",
   "metadata": {
    "id": "o_PArQSI8kB7"
   },
   "source": [
    "###  # The permutation criterion (``one_sample'''): "
   ]
  },
  {
   "cell_type": "code",
   "execution_count": 24,
   "metadata": {
    "id": "cBwqIvsT8kB8"
   },
   "outputs": [
    {
     "data": {
      "text/plain": [
       "(0.03465965340346597, 3.006896551724138)"
      ]
     },
     "execution_count": 24,
     "metadata": {},
     "output_type": "execute_result"
    }
   ],
   "source": [
    "one_sample(w[:,1]-w[:,0],  alternative='two-sided')\n"
   ]
  },
  {
   "cell_type": "markdown",
   "metadata": {
    "id": "uWMMc1zg8kB9"
   },
   "source": [
    "###  #Confidence interval for average weight increase with bootstrap: "
   ]
  },
  {
   "cell_type": "code",
   "execution_count": 25,
   "metadata": {
    "id": "JSROdsxs8kB9"
   },
   "outputs": [
    {
     "name": "stdout",
     "output_type": "stream",
     "text": [
      "[[0.82301799]\n",
      " [6.17380953]]\n"
     ]
    }
   ],
   "source": [
    "bs = IIDBootstrap(w[:,1]- w[:,0])\n",
    "print(bs.conf_int(np.mean, 1000, method='bca'))\n"
   ]
  },
  {
   "cell_type": "markdown",
   "metadata": {
    "id": "1knLvpgO8kB-"
   },
   "source": [
    "###  # Confidence interval for the mid-point of weight increase: "
   ]
  },
  {
   "cell_type": "code",
   "execution_count": 26,
   "metadata": {
    "id": "YqBPuHM98kB-"
   },
   "outputs": [
    {
     "name": "stdout",
     "output_type": "stream",
     "text": [
      "[[-0.7]\n",
      " [ 2.1]]\n"
     ]
    }
   ],
   "source": [
    "bs = IIDBootstrap(w[:,1]- w[:,0])\n",
    "print(bs.conf_int(np.median, 1000, method='bca'))\n"
   ]
  },
  {
   "cell_type": "markdown",
   "metadata": {
    "id": "l6FzpJY38kB_"
   },
   "source": [
    "  ## Real estate in Seattle \n",
    "**Hesterberg T., Monaghan S., Moore D.S., Clipson A., Epstein R. (2005). Bootstrap methods and permutation tests. In Introduction to the Practice of Statistics, New York: W. H. Freeman and Company. ** http://statweb.stanford.edu/~tibs/stat315a/Supplements/bootstrap.pdf"
   ]
  },
  {
   "cell_type": "markdown",
   "metadata": {
    "id": "b8svYLOE8kB_"
   },
   "source": [
    "  Data on the sales value of real estate in Seattle are available for 50 transactions in 2001 and 50 in 2002.    Have prices changed? "
   ]
  },
  {
   "cell_type": "markdown",
   "metadata": {
    "id": "t0fm_qQF8kB_"
   },
   "source": [
    "###  # Data "
   ]
  },
  {
   "cell_type": "code",
   "execution_count": 27,
   "metadata": {
    "id": "6uQAYaK18kCA"
   },
   "outputs": [
    {
     "data": {
      "text/html": [
       "<div>\n",
       "<style scoped>\n",
       "    .dataframe tbody tr th:only-of-type {\n",
       "        vertical-align: middle;\n",
       "    }\n",
       "\n",
       "    .dataframe tbody tr th {\n",
       "        vertical-align: top;\n",
       "    }\n",
       "\n",
       "    .dataframe thead th {\n",
       "        text-align: right;\n",
       "    }\n",
       "</style>\n",
       "<table border=\"1\" class=\"dataframe\">\n",
       "  <thead>\n",
       "    <tr style=\"text-align: right;\">\n",
       "      <th></th>\n",
       "      <th>Price</th>\n",
       "      <th>Year</th>\n",
       "    </tr>\n",
       "  </thead>\n",
       "  <tbody>\n",
       "    <tr>\n",
       "      <th>0</th>\n",
       "      <td>142.0</td>\n",
       "      <td>2002</td>\n",
       "    </tr>\n",
       "    <tr>\n",
       "      <th>1</th>\n",
       "      <td>232.0</td>\n",
       "      <td>2002</td>\n",
       "    </tr>\n",
       "    <tr>\n",
       "      <th>2</th>\n",
       "      <td>132.5</td>\n",
       "      <td>2002</td>\n",
       "    </tr>\n",
       "    <tr>\n",
       "      <th>3</th>\n",
       "      <td>200.0</td>\n",
       "      <td>2002</td>\n",
       "    </tr>\n",
       "    <tr>\n",
       "      <th>4</th>\n",
       "      <td>362.0</td>\n",
       "      <td>2002</td>\n",
       "    </tr>\n",
       "  </tbody>\n",
       "</table>\n",
       "</div>"
      ],
      "text/plain": [
       "   Price  Year\n",
       "0  142.0  2002\n",
       "1  232.0  2002\n",
       "2  132.5  2002\n",
       "3  200.0  2002\n",
       "4  362.0  2002"
      ]
     },
     "execution_count": 27,
     "metadata": {},
     "output_type": "execute_result"
    }
   ],
   "source": [
    "data = pd.read_csv('https://raw.githubusercontent.com/Intelligent-Systems-Phystech/psad/master/seminars/sem3/data/seattle.txt', delimiter='\\t')\n",
    "data.head()\n"
   ]
  },
  {
   "cell_type": "markdown",
   "metadata": {
    "id": "w1ewkdWq8kCA"
   },
   "source": [
    "#### Boxplot"
   ]
  },
  {
   "cell_type": "code",
   "execution_count": 28,
   "metadata": {
    "id": "wrSFk-1W8kCB"
   },
   "outputs": [
    {
     "data": {
      "text/plain": [
       "<AxesSubplot: xlabel='Year', ylabel='Price'>"
      ]
     },
     "execution_count": 28,
     "metadata": {},
     "output_type": "execute_result"
    },
    {
     "data": {
      "image/png": "[encoded data removed]",
      "text/plain": [
       "<Figure size 640x480 with 1 Axes>"
      ]
     },
     "metadata": {},
     "output_type": "display_data"
    }
   ],
   "source": [
    "sns.boxplot(data=data, y=\"Price\", x=\"Year\")\n"
   ]
  },
  {
   "cell_type": "code",
   "execution_count": 29,
   "metadata": {
    "id": "7z33JbRK8kCB"
   },
   "outputs": [],
   "source": [
    "x1 = data.loc[data['Year']==2001]['Price'].values\n",
    "x2 = data.loc[data['Year']==2002]['Price'].values\n"
   ]
  },
  {
   "cell_type": "code",
   "execution_count": 30,
   "metadata": {
    "id": "FGUcUzn-8kCB"
   },
   "outputs": [
    {
     "data": {
      "image/png": "[encoded data removed]",
      "text/plain": [
       "<Figure size 640x480 with 1 Axes>"
      ]
     },
     "metadata": {},
     "output_type": "display_data"
    }
   ],
   "source": [
    "sns.kdeplot(x1, label='2001')\n",
    "sns.kdeplot(x2, label='2002')\n",
    "plt.legend(loc=\"best\")\n",
    "plt.show()\n"
   ]
  },
  {
   "cell_type": "markdown",
   "metadata": {
    "id": "e1jfL4wa8kCC"
   },
   "source": [
    "###  # QQ chart "
   ]
  },
  {
   "cell_type": "code",
   "execution_count": 31,
   "metadata": {
    "id": "wSm9Ktxs8kCC"
   },
   "outputs": [
    {
     "data": {
      "image/png": "[encoded data removed]",
      "text/plain": [
       "<Figure size 640x480 with 1 Axes>"
      ]
     },
     "metadata": {},
     "output_type": "display_data"
    }
   ],
   "source": [
    "_ = st.probplot(x1, plot=plt)\n"
   ]
  },
  {
   "cell_type": "code",
   "execution_count": 32,
   "metadata": {
    "id": "MNkKX2q28kCD"
   },
   "outputs": [
    {
     "data": {
      "image/png": "[encoded data removed]",
      "text/plain": [
       "<Figure size 640x480 with 1 Axes>"
      ]
     },
     "metadata": {},
     "output_type": "display_data"
    }
   ],
   "source": [
    "_ = st.probplot(x2, plot=plt)\n"
   ]
  },
  {
   "cell_type": "markdown",
   "metadata": {
    "id": "c29-6m118kCD"
   },
   "source": [
    "###  # Student's criterion: "
   ]
  },
  {
   "cell_type": "code",
   "execution_count": 33,
   "metadata": {
    "id": "8T8VsGpx8kCD"
   },
   "outputs": [
    {
     "data": {
      "text/plain": [
       "Ttest_indResult(statistic=-0.8057258725189664, pvalue=0.42235167114691463)"
      ]
     },
     "execution_count": 33,
     "metadata": {},
     "output_type": "execute_result"
    }
   ],
   "source": [
    "st.ttest_ind(x1, x2)\n"
   ]
  },
  {
   "cell_type": "markdown",
   "metadata": {
    "id": "kOBZ6fPq8kCE"
   },
   "source": [
    "###  # Mann-Whitney Wilcoxon criterion: "
   ]
  },
  {
   "cell_type": "code",
   "execution_count": 34,
   "metadata": {
    "id": "kH_eTBLo8kCE"
   },
   "outputs": [
    {
     "data": {
      "text/plain": [
       "MannwhitneyuResult(statistic=1295.5, pvalue=0.7563872675701748)"
      ]
     },
     "execution_count": 34,
     "metadata": {},
     "output_type": "execute_result"
    }
   ],
   "source": [
    "st.mannwhitneyu(x1, x2, alternative= 'two-sided')\n"
   ]
  },
  {
   "cell_type": "markdown",
   "metadata": {
    "id": "AjBgi35s8kCE"
   },
   "source": [
    "###  # The permutation criterion: "
   ]
  },
  {
   "cell_type": "code",
   "execution_count": 35,
   "metadata": {
    "id": "vrndWh_g8kCF"
   },
   "outputs": [
    {
     "data": {
      "text/plain": [
       "(0.43925560744392556, -40.33059999999995)"
      ]
     },
     "execution_count": 35,
     "metadata": {},
     "output_type": "execute_result"
    }
   ],
   "source": [
    "two_sample(x1, x2,  alternative='two-sided')\n"
   ]
  },
  {
   "cell_type": "markdown",
   "metadata": {
    "id": "d7qinlwb8kCF"
   },
   "source": [
    "  #### Confidence intervals for averages in samples using bootstrap: \n",
    "  Expected replies ```[246, 330], [241.403] ```' "
   ]
  },
  {
   "cell_type": "code",
   "execution_count": 36,
   "metadata": {
    "id": "LscIbRkq8kCF"
   },
   "outputs": [
    {
     "name": "stdout",
     "output_type": "stream",
     "text": [
      "[[248.56919259]\n",
      " [335.25038167]]\n",
      "[[259.53454719]\n",
      " [441.87861534]]\n"
     ]
    }
   ],
   "source": [
    "bs = IIDBootstrap(x1)\n",
    "print(bs.conf_int(np.mean, 1000, method='bca'))\n",
    "\n",
    "bs = IIDBootstrap(x2)\n",
    "print(bs.conf_int(np.mean, 1000, method='bca'))\n"
   ]
  },
  {
   "cell_type": "markdown",
   "metadata": {
    "id": "xZgUlsjo8kCG"
   },
   "source": [
    "  #### The confidence interval for the difference between the two averages with the bootstrap: \n",
    "  Expected replies: ```[-52, 115] ``'' "
   ]
  },
  {
   "cell_type": "code",
   "execution_count": null,
   "metadata": {
    "id": "NSl01lRV8kCH"
   },
   "outputs": [],
   "source": [
    "bs = IIDBootstrap(x2-x1)\n",
    "print(bs.conf_int(np.mean, 1000, method='bca'))\n"
   ]
  },
  {
   "cell_type": "markdown",
   "metadata": {
    "id": "7gNbYmqk8kCH"
   },
   "source": [
    "###  # Kolmogorov-Smirnov statistics "
   ]
  },
  {
   "cell_type": "code",
   "execution_count": 37,
   "metadata": {
    "id": "H0WeNd6J8kCH"
   },
   "outputs": [
    {
     "data": {
      "text/plain": [
       "KstestResult(statistic=0.14, pvalue=0.7166468440414822)"
      ]
     },
     "execution_count": 37,
     "metadata": {},
     "output_type": "execute_result"
    }
   ],
   "source": [
    "st.ks_2samp(x1, x2)\n"
   ]
  },
  {
   "cell_type": "markdown",
   "metadata": {
    "id": "jsvAHgVf8kCI"
   },
   "source": [
    "  # Aluminium in the poplars \n",
    "  \n",
    "**Laureysens I., Blust R., De Temmerman L., Lemmens C., Ceulemans R. (2004). Clonal variation in heavy metal accumulation and biomass production in a poplar coppice culture. I. Seasonal variation in leaf, wood and bark concentrations. Environmental Pollution, 131, 485-494. **"
   ]
  },
  {
   "cell_type": "markdown",
   "metadata": {
    "id": "dQaoGIZp8kCI"
   },
   "source": [
    "  For 13 varieties of poplars growing in the zone of intense pollution, in \n",
    "  The mean concentration of aluminium in micrograms was measured on August and November \n",
    "  gram of wood. "
   ]
  },
  {
   "cell_type": "code",
   "execution_count": 38,
   "metadata": {
    "id": "BbrexSfN8kCJ"
   },
   "outputs": [
    {
     "data": {
      "text/html": [
       "<div>\n",
       "<style scoped>\n",
       "    .dataframe tbody tr th:only-of-type {\n",
       "        vertical-align: middle;\n",
       "    }\n",
       "\n",
       "    .dataframe tbody tr th {\n",
       "        vertical-align: top;\n",
       "    }\n",
       "\n",
       "    .dataframe thead th {\n",
       "        text-align: right;\n",
       "    }\n",
       "</style>\n",
       "<table border=\"1\" class=\"dataframe\">\n",
       "  <thead>\n",
       "    <tr style=\"text-align: right;\">\n",
       "      <th></th>\n",
       "      <th>Clone</th>\n",
       "      <th>August</th>\n",
       "      <th>November</th>\n",
       "    </tr>\n",
       "  </thead>\n",
       "  <tbody>\n",
       "    <tr>\n",
       "      <th>0</th>\n",
       "      <td>Columbia River</td>\n",
       "      <td>18.3</td>\n",
       "      <td>12.7</td>\n",
       "    </tr>\n",
       "    <tr>\n",
       "      <th>1</th>\n",
       "      <td>Fritzi Pauley</td>\n",
       "      <td>13.3</td>\n",
       "      <td>11.1</td>\n",
       "    </tr>\n",
       "    <tr>\n",
       "      <th>2</th>\n",
       "      <td>Hazendans</td>\n",
       "      <td>16.5</td>\n",
       "      <td>15.3</td>\n",
       "    </tr>\n",
       "    <tr>\n",
       "      <th>3</th>\n",
       "      <td>Primo</td>\n",
       "      <td>12.6</td>\n",
       "      <td>12.7</td>\n",
       "    </tr>\n",
       "    <tr>\n",
       "      <th>4</th>\n",
       "      <td>Raspalje</td>\n",
       "      <td>9.5</td>\n",
       "      <td>10.5</td>\n",
       "    </tr>\n",
       "  </tbody>\n",
       "</table>\n",
       "</div>"
      ],
      "text/plain": [
       "            Clone  August  November\n",
       "0  Columbia River    18.3      12.7\n",
       "1   Fritzi Pauley    13.3      11.1\n",
       "2       Hazendans    16.5      15.3\n",
       "3           Primo    12.6      12.7\n",
       "4        Raspalje     9.5      10.5"
      ]
     },
     "execution_count": 38,
     "metadata": {},
     "output_type": "execute_result"
    }
   ],
   "source": [
    "al = pd.read_csv('https://raw.githubusercontent.com/Intelligent-Systems-Phystech/psad/master/seminars/sem3/data/poplar.txt', delimiter='\\t')\n",
    "al.head()\n"
   ]
  },
  {
   "cell_type": "code",
   "execution_count": 39,
   "metadata": {
    "id": "dZJF8cNI8kCJ"
   },
   "outputs": [
    {
     "data": {
      "image/png": "[encoded data removed]",
      "text/plain": [
       "<Figure size 640x480 with 1 Axes>"
      ]
     },
     "metadata": {},
     "output_type": "display_data"
    }
   ],
   "source": [
    "plt.scatter(al['November'].values, al['August'].values)\n",
    "plt.xlabel('November')\n",
    "plt.ylabel('August')\n",
    "plt.show()\n"
   ]
  },
  {
   "cell_type": "code",
   "execution_count": 40,
   "metadata": {
    "id": "RGJYffNC8kCK"
   },
   "outputs": [],
   "source": [
    "delta = al['August']-al['November']\n"
   ]
  },
  {
   "cell_type": "markdown",
   "metadata": {
    "id": "pJPN93jR8kCK"
   },
   "source": [
    "###  # QQ Graph "
   ]
  },
  {
   "cell_type": "code",
   "execution_count": 41,
   "metadata": {
    "id": "OdAjCxpb8kCK"
   },
   "outputs": [
    {
     "data": {
      "image/png": "[encoded data removed]",
      "text/plain": [
       "<Figure size 640x480 with 1 Axes>"
      ]
     },
     "metadata": {},
     "output_type": "display_data"
    }
   ],
   "source": [
    "_ = st.probplot(delta, plot=plt)\n"
   ]
  },
  {
   "cell_type": "markdown",
   "metadata": {
    "id": "pHQWb5y-8kCK"
   },
   "source": [
    "###  # Signal criterion "
   ]
  },
  {
   "cell_type": "code",
   "execution_count": 42,
   "metadata": {
    "id": "TpVY-ZFj8kCL"
   },
   "outputs": [
    {
     "data": {
      "text/plain": [
       "(-3.5, 0.09228515625)"
      ]
     },
     "execution_count": 42,
     "metadata": {},
     "output_type": "execute_result"
    }
   ],
   "source": [
    "sign_test(delta)\n"
   ]
  },
  {
   "cell_type": "markdown",
   "metadata": {
    "id": "QBdUI7P98kCL"
   },
   "source": [
    "###  # The Wilcoxon Criterion "
   ]
  },
  {
   "cell_type": "code",
   "execution_count": 43,
   "metadata": {
    "id": "9QlG65Ov8kCL"
   },
   "outputs": [
    {
     "data": {
      "text/plain": [
       "WilcoxonResult(statistic=16.0, pvalue=0.039794921875)"
      ]
     },
     "execution_count": 43,
     "metadata": {},
     "output_type": "execute_result"
    }
   ],
   "source": [
    "st.wilcoxon(delta)\n"
   ]
  },
  {
   "cell_type": "markdown",
   "metadata": {
    "id": "zp8KLj3i8kCL"
   },
   "source": [
    "###  # The permutation criterion "
   ]
  },
  {
   "cell_type": "code",
   "execution_count": 44,
   "metadata": {
    "id": "Xx7pX9eN8kCL"
   },
   "outputs": [
    {
     "data": {
      "text/plain": [
       "(0.02977970220297797, 4.8999999999999995)"
      ]
     },
     "execution_count": 44,
     "metadata": {},
     "output_type": "execute_result"
    }
   ],
   "source": [
    "one_sample(al['November']-al['August'],  alternative='two-sided')\n"
   ]
  },
  {
   "cell_type": "markdown",
   "metadata": {
    "id": "SMl0BnVY8kCM"
   },
   "source": [
    "  #### Change statistics (instead of ``mean'' to ``t'') \n",
    "  Expected response: ``'0.03''' "
   ]
  },
  {
   "cell_type": "code",
   "execution_count": null,
   "metadata": {
    "id": "UtmxXMrP8kCM"
   },
   "outputs": [],
   "source": [
    "#  Your code. \n"
   ]
  },
  {
   "cell_type": "markdown",
   "metadata": {
    "id": "TSzG6wQo8kCM"
   },
   "source": [
    "###  # Confidence interval for average difference with buttrep "
   ]
  },
  {
   "cell_type": "code",
   "execution_count": 45,
   "metadata": {
    "id": "CbokBTM78kCN"
   },
   "outputs": [
    {
     "data": {
      "text/plain": [
       "array([[-8.47826923],\n",
       "       [-0.54538462]])"
      ]
     },
     "execution_count": 45,
     "metadata": {},
     "output_type": "execute_result"
    }
   ],
   "source": [
    "bs = IIDBootstrap(delta)\n",
    "bs.conf_int(np.mean, 1000, method='basic')\n"
   ]
  },
  {
   "cell_type": "markdown",
   "metadata": {
    "id": "ch0gAVU48kCN"
   },
   "source": [
    "###  # The confidence interval is 'bca' "
   ]
  },
  {
   "cell_type": "code",
   "execution_count": null,
   "metadata": {
    "id": "lDVpQz858kCN"
   },
   "outputs": [],
   "source": [
    "bs = IIDBootstrap(delta)\n",
    "bs.conf_int(np.mean, 1000, method='bca')\n"
   ]
  },
  {
   "cell_type": "markdown",
   "metadata": {
    "id": "3BTWbiNl8kCO"
   },
   "source": [
    "###  # Reliance of the confidence interval to the number of attempts to semplicate (check for n "
   ]
  },
  {
   "cell_type": "code",
   "execution_count": null,
   "metadata": {
    "id": "UVo61zKv8kCO"
   },
   "outputs": [],
   "source": [
    "for id, i in enumerate([5,10,50,100,500,1000, 5000, 10000]):\n",
    "    bs = IIDBootstrap(delta)\n",
    "    ci = bs.conf_int(np.mean, i, method='basic')\n",
    "    plt.plot([np.log(i), np.log(i)], ci )\n"
   ]
  },
  {
   "cell_type": "code",
   "execution_count": null,
   "metadata": {
    "id": "uSgAHNi28kCO"
   },
   "outputs": [],
   "source": [
    "for id, i in enumerate([5,10,50,100,500,1000, 5000, 10000, 20000]):\n",
    "    bs = IIDBootstrap(delta)\n",
    "    ci = bs.conf_int(np.mean, i, method='bca')\n",
    "    plt.plot([np.log(i), np.log(i)], ci)\n",
    "    print(ci)\n"
   ]
  },
  {
   "cell_type": "markdown",
   "metadata": {
    "id": "5ncJZOis8kCO"
   },
   "source": [
    "###  # Dependence of the confidence interval on the level of trust "
   ]
  },
  {
   "cell_type": "code",
   "execution_count": null,
   "metadata": {
    "id": "czLgyjGi8kCP"
   },
   "outputs": [],
   "source": [
    "for p in [0.1, 0.2, 0.3,0.5, 0.7, 0.8, 0.9, 0.95, 0.99]:\n",
    "    bs = IIDBootstrap(delta)\n",
    "    ci = bs.conf_int(np.mean, 5000,size=p, method='bca')\n",
    "    plt.plot([p, p], ci )\n",
    "    print (ci)\n"
   ]
  },
  {
   "cell_type": "markdown",
   "metadata": {
    "id": "uU-OBvC58kCP"
   },
   "source": [
    "##   Telecommunication repair time "
   ]
  },
  {
   "cell_type": "markdown",
   "metadata": {
    "id": "NeVEZGI88kCP"
   },
   "source": [
    "Verizon is the primary local telephone company (the legal term is Incumbent Local Exchange Carrier, ILEC) for a large area in the eastern United States. As such, it is responsible for providing repair service for the customers of other telephone companies (known as Competing Local Exchange Carriers, CLECs) in this region. Verizon is subject to fines if the repair times (the time it takes to fix a problem) for CLEC customers are substantially worse than those for Verizon’s own customers. This is determined using hypothesis tests, negotiated with the local Public Utilities Commission (PUC)."
   ]
  },
  {
   "cell_type": "markdown",
   "metadata": {
    "id": "cVtAbMuR8kCP"
   },
   "source": [
    "###  # Data "
   ]
  },
  {
   "cell_type": "code",
   "execution_count": 46,
   "metadata": {
    "id": "oQko4bDF8kCQ"
   },
   "outputs": [
    {
     "data": {
      "text/html": [
       "<div>\n",
       "<style scoped>\n",
       "    .dataframe tbody tr th:only-of-type {\n",
       "        vertical-align: middle;\n",
       "    }\n",
       "\n",
       "    .dataframe tbody tr th {\n",
       "        vertical-align: top;\n",
       "    }\n",
       "\n",
       "    .dataframe thead th {\n",
       "        text-align: right;\n",
       "    }\n",
       "</style>\n",
       "<table border=\"1\" class=\"dataframe\">\n",
       "  <thead>\n",
       "    <tr style=\"text-align: right;\">\n",
       "      <th></th>\n",
       "      <th>Time</th>\n",
       "      <th>Group</th>\n",
       "    </tr>\n",
       "  </thead>\n",
       "  <tbody>\n",
       "    <tr>\n",
       "      <th>0</th>\n",
       "      <td>17.50</td>\n",
       "      <td>ILEC</td>\n",
       "    </tr>\n",
       "    <tr>\n",
       "      <th>1</th>\n",
       "      <td>2.40</td>\n",
       "      <td>ILEC</td>\n",
       "    </tr>\n",
       "    <tr>\n",
       "      <th>2</th>\n",
       "      <td>0.00</td>\n",
       "      <td>ILEC</td>\n",
       "    </tr>\n",
       "    <tr>\n",
       "      <th>3</th>\n",
       "      <td>0.65</td>\n",
       "      <td>ILEC</td>\n",
       "    </tr>\n",
       "    <tr>\n",
       "      <th>4</th>\n",
       "      <td>22.23</td>\n",
       "      <td>ILEC</td>\n",
       "    </tr>\n",
       "  </tbody>\n",
       "</table>\n",
       "</div>"
      ],
      "text/plain": [
       "    Time Group\n",
       "0  17.50  ILEC\n",
       "1   2.40  ILEC\n",
       "2   0.00  ILEC\n",
       "3   0.65  ILEC\n",
       "4  22.23  ILEC"
      ]
     },
     "execution_count": 46,
     "metadata": {},
     "output_type": "execute_result"
    }
   ],
   "source": [
    "data = pd.read_csv('https://raw.githubusercontent.com/Intelligent-Systems-Phystech/psad/master/seminars/sem3/data/verizon.txt', delimiter='\\t')\n",
    "data.head()\n"
   ]
  },
  {
   "cell_type": "markdown",
   "metadata": {
    "id": "0xeSPetw8kCQ"
   },
   "source": [
    "#### Boxplot"
   ]
  },
  {
   "cell_type": "code",
   "execution_count": 47,
   "metadata": {
    "id": "X3pZQp1k8kCR"
   },
   "outputs": [
    {
     "data": {
      "text/plain": [
       "<AxesSubplot: xlabel='Time', ylabel='Group'>"
      ]
     },
     "execution_count": 47,
     "metadata": {},
     "output_type": "execute_result"
    },
    {
     "data": {
      "image/png": "[encoded data removed]",
      "text/plain": [
       "<Figure size 640x480 with 1 Axes>"
      ]
     },
     "metadata": {},
     "output_type": "display_data"
    }
   ],
   "source": [
    "sns.boxplot(data=data,x='Time', y='Group')\n"
   ]
  },
  {
   "cell_type": "code",
   "execution_count": 48,
   "metadata": {
    "id": "FRFXIFGr8kCS"
   },
   "outputs": [
    {
     "data": {
      "text/plain": [
       "((1664,), (23,))"
      ]
     },
     "execution_count": 48,
     "metadata": {},
     "output_type": "execute_result"
    }
   ],
   "source": [
    "x1 = data.loc[data['Group']=='ILEC']['Time'].values\n",
    "x2 = data.loc[data['Group']=='CLEC']['Time'].values\n",
    "x1.shape, x2.shape\n"
   ]
  },
  {
   "cell_type": "markdown",
   "metadata": {
    "id": "qFcaKD378kCU"
   },
   "source": [
    "###  # Histogram "
   ]
  },
  {
   "cell_type": "code",
   "execution_count": 49,
   "metadata": {
    "id": "J_Bt2sly8kCV"
   },
   "outputs": [
    {
     "data": {
      "image/png": "[encoded data removed]",
      "text/plain": [
       "<Figure size 640x480 with 1 Axes>"
      ]
     },
     "metadata": {},
     "output_type": "display_data"
    }
   ],
   "source": [
    "plt.hist(x1, bins=10, density=True, label=\"ILEC\")\n",
    "plt.hist(x2, bins=10, density=True, label='CLEC')\n",
    "plt.legend(loc=\"best\")\n",
    "plt.show()\n"
   ]
  },
  {
   "cell_type": "markdown",
   "metadata": {
    "id": "0uySU1jA8kCV"
   },
   "source": [
    "#### QQ-plot"
   ]
  },
  {
   "cell_type": "code",
   "execution_count": 50,
   "metadata": {
    "id": "J3cdD7ZT8kCV"
   },
   "outputs": [
    {
     "data": {
      "image/png": "[encoded data removed]",
      "text/plain": [
       "<Figure size 640x480 with 1 Axes>"
      ]
     },
     "metadata": {},
     "output_type": "display_data"
    }
   ],
   "source": [
    "st.probplot(x1, plot=plt)\n",
    "plt.title('ILEC')\n",
    "plt.show()\n"
   ]
  },
  {
   "cell_type": "code",
   "execution_count": 51,
   "metadata": {
    "id": "bqdRDmJz8kCW"
   },
   "outputs": [
    {
     "data": {
      "image/png": "[encoded data removed]",
      "text/plain": [
       "<Figure size 640x480 with 1 Axes>"
      ]
     },
     "metadata": {},
     "output_type": "display_data"
    }
   ],
   "source": [
    "st.probplot(x2, plot=plt)\n",
    "plt.title('CLEC')\n",
    "plt.show()\n"
   ]
  },
  {
   "cell_type": "markdown",
   "metadata": {
    "id": "9EC3TeVh8kCW"
   },
   "source": [
    "###  # Mana Whitney Wilcockson Criterion "
   ]
  },
  {
   "cell_type": "code",
   "execution_count": 52,
   "metadata": {
    "id": "mqFmIAs_8kCW"
   },
   "outputs": [
    {
     "data": {
      "text/plain": [
       "MannwhitneyuResult(statistic=11452.0, pvalue=0.0009130276886676177)"
      ]
     },
     "execution_count": 52,
     "metadata": {},
     "output_type": "execute_result"
    }
   ],
   "source": [
    "st.mannwhitneyu(x1, x2, alternative='two-sided')\n"
   ]
  },
  {
   "cell_type": "markdown",
   "metadata": {
    "id": "LuTDt18n8kCX"
   },
   "source": [
    "###  # The permutation criterion "
   ]
  },
  {
   "cell_type": "code",
   "execution_count": 53,
   "metadata": {
    "id": "Uy0mMIQQ8kCX"
   },
   "outputs": [
    {
     "data": {
      "text/plain": [
       "(0.03796203796203797, -8.097519857859533)"
      ]
     },
     "execution_count": 53,
     "metadata": {},
     "output_type": "execute_result"
    }
   ],
   "source": [
    "two_sample(x1, x2, reps=1000, alternative='two-sided')\n"
   ]
  },
  {
   "cell_type": "markdown",
   "metadata": {
    "id": "8M9IW5uw8kCX"
   },
   "source": [
    "###  # Kolmogorov-Smirnov criterion"
   ]
  },
  {
   "cell_type": "code",
   "execution_count": 54,
   "metadata": {
    "id": "oQ1SA6NK8kCX"
   },
   "outputs": [
    {
     "data": {
      "text/plain": [
       "KstestResult(statistic=0.45147888795986624, pvalue=9.726002165028644e-05)"
      ]
     },
     "execution_count": 54,
     "metadata": {},
     "output_type": "execute_result"
    }
   ],
   "source": [
    "st.ks_2samp(x1,x2)\n"
   ]
  }
 ],
 "metadata": {
  "colab": {
   "name": "main.ipynb",
   "provenance": []
  },
  "kernelspec": {
   "display_name": "Python 3 (ipykernel)",
   "language": "python",
   "name": "python3"
  },
  "language_info": {
   "codemirror_mode": {
    "name": "ipython",
    "version": 3
   },
   "file_extension": ".py",
   "mimetype": "text/x-python",
   "name": "python",
   "nbconvert_exporter": "python",
   "pygments_lexer": "ipython3",
   "version": "3.10.6"
  }
 },
 "nbformat": 4,
 "nbformat_minor": 1
}
